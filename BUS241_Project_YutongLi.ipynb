{
 "cells": [
  {
   "cell_type": "markdown",
   "metadata": {},
   "source": [
    "# Final Project: Airline Passenger Satisfaction Score Classification"
   ]
  },
  {
   "cell_type": "markdown",
   "metadata": {},
   "source": [
    "Yutong Li\n",
    "\n",
    "2021/04/28"
   ]
  },
  {
   "cell_type": "markdown",
   "metadata": {},
   "source": [
    "#### Import Basic Packages"
   ]
  },
  {
   "cell_type": "code",
   "execution_count": 104,
   "metadata": {},
   "outputs": [],
   "source": [
    "%matplotlib inline\n",
    "import numpy as np\n",
    "import pandas as pd\n",
    "import seaborn as sns\n",
    "import matplotlib.pyplot as plt"
   ]
  },
  {
   "cell_type": "markdown",
   "metadata": {},
   "source": [
    "#### Import MCtraintest Function"
   ]
  },
  {
   "cell_type": "code",
   "execution_count": 105,
   "metadata": {},
   "outputs": [],
   "source": [
    "# import MCtraintest\n",
    "def MCtraintest(nmc,X,y,modelObj,testFrac):\n",
    "    # Create memory space for monte-carlo runs\n",
    "    trainScore = np.zeros(nmc)\n",
    "    testScore  = np.zeros(nmc)\n",
    "    for i in range(nmc):\n",
    "        X_train, X_test, y_train, y_test = train_test_split(X,y,test_size=testFrac)\n",
    "        modelObj.fit(X_train,y_train)\n",
    "        trainScore[i] = modelObj.score(X_train,y_train)\n",
    "        testScore[i]  = modelObj.score(X_test,y_test)\n",
    "    return trainScore,testScore"
   ]
  },
  {
   "cell_type": "markdown",
   "metadata": {},
   "source": [
    "## I. Problem Statement"
   ]
  },
  {
   "cell_type": "markdown",
   "metadata": {},
   "source": [
    "#### <ins>Goal of this Project:</ins>"
   ]
  },
  {
   "cell_type": "markdown",
   "metadata": {},
   "source": [
    "Customer satisfaction analysis is a crucial step for businesses to reflect and improve their service quality. In this project, we are going to study the airline passenger satisfaction based on features related to the passengers, airline services, and other features. We will use different machine learning models to train our dataset, then evaluate the performances on testing data using confusion matrix. We could also look at factors that will impact customers' satisfaction ratings and provided some suggestions to airline businesses."
   ]
  },
  {
   "cell_type": "markdown",
   "metadata": {},
   "source": [
    "#### <ins>About this Dataset:</ins>"
   ]
  },
  {
   "cell_type": "markdown",
   "metadata": {},
   "source": [
    "This dataset is found on Kaggle, which contains a training file and a testing file. The training data has 103904 rows (80%) and 24 columns, and the testing data has 25976 rows (20%) and 24 columns. Here, I hope to do cross-validation for classification, so I will combine the two files together. Due to a large amount of data and slow computing power issues, I decided to pull only 20,000 data and do the classification. However, it would be simple to change it back to the full data set anytime if we want to use all the data because using only a subset of data might make our data not complete or not representative. However, our data analysis and visualization will still work on the full dataset.\n",
    "\n",
    "Data: https://www.kaggle.com/teejmahal20/airline-passenger-satisfaction"
   ]
  },
  {
   "cell_type": "markdown",
   "metadata": {},
   "source": [
    "<ins>Columns Description:</ins>\n",
    "\n",
    "    Gender: Gender of the passengers (Female, Male)\n",
    "    Customer Type: The customer type (Loyal customer, disloyal customer)\n",
    "    Age: The actual age of the passengers\n",
    "    Type of Travel: Purpose of the flight of the passengers (Personal Travel, Business Travel)\n",
    "    Class: Travel class in the plane of the passengers (Business, Eco, Eco Plus)\n",
    "    Flight distance: The flight distance of this journey\n",
    "    Inflight wifi service: Satisfaction level of the inflight wifi service (0:Not Applicable;1-5)\n",
    "    Departure/Arrival time convenient: Satisfaction level of Departure/Arrival time convenient\n",
    "    Ease of Online booking: Satisfaction level of online booking\n",
    "    Gate location: Satisfaction level of Gate location\n",
    "    Food and drink: Satisfaction level of Food and drink\n",
    "    Online boarding: Satisfaction level of online boarding\n",
    "    Seat comfort: Satisfaction level of Seat comfort\n",
    "    Inflight entertainment: Satisfaction level of inflight entertainment\n",
    "    On-board service: Satisfaction level of On-board service\n",
    "    Leg room service: Satisfaction level of Leg room service\n",
    "    Baggage handling: Satisfaction level of baggage handling\n",
    "    Check-in service: Satisfaction level of Check-in service\n",
    "    Inflight service: Satisfaction level of inflight service\n",
    "    Cleanliness: Satisfaction level of Cleanliness\n",
    "    Departure Delay in Minutes: Minutes delayed when departure\n",
    "    Arrival Delay in Minutes: Minutes delayed when Arrival\n",
    "    Satisfaction: Airline satisfaction level(Satisfaction, neutral or dissatisfaction)"
   ]
  },
  {
   "cell_type": "markdown",
   "metadata": {},
   "source": [
    "## II. Read and Verify Data"
   ]
  },
  {
   "cell_type": "markdown",
   "metadata": {},
   "source": [
    "**Define Data Cleaning Pipeline:**\n",
    "\n",
    "This pipeline is quoted from https://towardsdatascience.com/cleaner-data-analysis-with-pandas-using-pipes-4d73770fbf3c. I quoted some of these, and also modified and edited this pipeline based on what I need for the cleaning."
   ]
  },
  {
   "cell_type": "code",
   "execution_count": 106,
   "metadata": {},
   "outputs": [],
   "source": [
    "def copy_df(df):\n",
    "    return df.copy()\n",
    "\n",
    "# if we have a column that contains more than half NaN values, we chose to drop it\n",
    "def drop_null(df):\n",
    "    threshold = len(df) * 0.5\n",
    "    df = df.dropna(axis = 1, thresh = threshold)\n",
    "    return df\n",
    "\n",
    "# one way to deal with missing values\n",
    "def median_inpute(df, columns):\n",
    "    median = df[columns].median()\n",
    "    df = df.fillna(median)\n",
    "    return df\n",
    "        \n",
    "# here we select data only within 0.05 and 0.95 quantile\n",
    "def remove_outliers(df, column):\n",
    "    low = np.quantile(df[column], 0.05)\n",
    "    high = np.quantile(df[column], 0.95)\n",
    "    return df[df[column].between(low, high, inclusive = True)]\n",
    "\n",
    "# change \"object\" to \"category\" dtype to save memory space\n",
    "def to_category(df):\n",
    "    cols = df.select_dtypes(include=\"object\").columns\n",
    "    for c in cols:\n",
    "        cat_ratio = len(df[c].value_counts()) / len(df)\n",
    "        if cat_ratio < 0.05:\n",
    "            df[c] = df[c].astype(\"category\")\n",
    "    return df"
   ]
  },
  {
   "cell_type": "markdown",
   "metadata": {},
   "source": [
    "### 1. Read & Concat Data"
   ]
  },
  {
   "cell_type": "code",
   "execution_count": 107,
   "metadata": {},
   "outputs": [],
   "source": [
    "train = pd.read_csv(\"train.csv\",index_col=0)\n",
    "test = pd.read_csv(\"test.csv\",index_col=0)"
   ]
  },
  {
   "cell_type": "code",
   "execution_count": 108,
   "metadata": {},
   "outputs": [],
   "source": [
    "airline_df = pd.concat([train, test], ignore_index=True)"
   ]
  },
  {
   "cell_type": "markdown",
   "metadata": {},
   "source": [
    "### 2. Verify Data"
   ]
  },
  {
   "cell_type": "code",
   "execution_count": 109,
   "metadata": {},
   "outputs": [],
   "source": [
    "airline_df.columns = airline_df.columns.str.replace(\" \", \"_\")"
   ]
  },
  {
   "cell_type": "code",
   "execution_count": 110,
   "metadata": {},
   "outputs": [
    {
     "data": {
      "text/html": [
       "<div>\n",
       "<style scoped>\n",
       "    .dataframe tbody tr th:only-of-type {\n",
       "        vertical-align: middle;\n",
       "    }\n",
       "\n",
       "    .dataframe tbody tr th {\n",
       "        vertical-align: top;\n",
       "    }\n",
       "\n",
       "    .dataframe thead th {\n",
       "        text-align: right;\n",
       "    }\n",
       "</style>\n",
       "<table border=\"1\" class=\"dataframe\">\n",
       "  <thead>\n",
       "    <tr style=\"text-align: right;\">\n",
       "      <th></th>\n",
       "      <th>id</th>\n",
       "      <th>Gender</th>\n",
       "      <th>Customer_Type</th>\n",
       "      <th>Age</th>\n",
       "      <th>Type_of_Travel</th>\n",
       "      <th>Class</th>\n",
       "      <th>Flight_Distance</th>\n",
       "      <th>Inflight_wifi_service</th>\n",
       "      <th>Departure/Arrival_time_convenient</th>\n",
       "      <th>Ease_of_Online_booking</th>\n",
       "      <th>...</th>\n",
       "      <th>Inflight_entertainment</th>\n",
       "      <th>On-board_service</th>\n",
       "      <th>Leg_room_service</th>\n",
       "      <th>Baggage_handling</th>\n",
       "      <th>Checkin_service</th>\n",
       "      <th>Inflight_service</th>\n",
       "      <th>Cleanliness</th>\n",
       "      <th>Departure_Delay_in_Minutes</th>\n",
       "      <th>Arrival_Delay_in_Minutes</th>\n",
       "      <th>satisfaction</th>\n",
       "    </tr>\n",
       "  </thead>\n",
       "  <tbody>\n",
       "    <tr>\n",
       "      <th>0</th>\n",
       "      <td>70172</td>\n",
       "      <td>Male</td>\n",
       "      <td>Loyal Customer</td>\n",
       "      <td>13</td>\n",
       "      <td>Personal Travel</td>\n",
       "      <td>Eco Plus</td>\n",
       "      <td>460</td>\n",
       "      <td>3</td>\n",
       "      <td>4</td>\n",
       "      <td>3</td>\n",
       "      <td>...</td>\n",
       "      <td>5</td>\n",
       "      <td>4</td>\n",
       "      <td>3</td>\n",
       "      <td>4</td>\n",
       "      <td>4</td>\n",
       "      <td>5</td>\n",
       "      <td>5</td>\n",
       "      <td>25</td>\n",
       "      <td>18.0</td>\n",
       "      <td>neutral or dissatisfied</td>\n",
       "    </tr>\n",
       "    <tr>\n",
       "      <th>1</th>\n",
       "      <td>5047</td>\n",
       "      <td>Male</td>\n",
       "      <td>disloyal Customer</td>\n",
       "      <td>25</td>\n",
       "      <td>Business travel</td>\n",
       "      <td>Business</td>\n",
       "      <td>235</td>\n",
       "      <td>3</td>\n",
       "      <td>2</td>\n",
       "      <td>3</td>\n",
       "      <td>...</td>\n",
       "      <td>1</td>\n",
       "      <td>1</td>\n",
       "      <td>5</td>\n",
       "      <td>3</td>\n",
       "      <td>1</td>\n",
       "      <td>4</td>\n",
       "      <td>1</td>\n",
       "      <td>1</td>\n",
       "      <td>6.0</td>\n",
       "      <td>neutral or dissatisfied</td>\n",
       "    </tr>\n",
       "    <tr>\n",
       "      <th>2</th>\n",
       "      <td>110028</td>\n",
       "      <td>Female</td>\n",
       "      <td>Loyal Customer</td>\n",
       "      <td>26</td>\n",
       "      <td>Business travel</td>\n",
       "      <td>Business</td>\n",
       "      <td>1142</td>\n",
       "      <td>2</td>\n",
       "      <td>2</td>\n",
       "      <td>2</td>\n",
       "      <td>...</td>\n",
       "      <td>5</td>\n",
       "      <td>4</td>\n",
       "      <td>3</td>\n",
       "      <td>4</td>\n",
       "      <td>4</td>\n",
       "      <td>4</td>\n",
       "      <td>5</td>\n",
       "      <td>0</td>\n",
       "      <td>0.0</td>\n",
       "      <td>satisfied</td>\n",
       "    </tr>\n",
       "    <tr>\n",
       "      <th>3</th>\n",
       "      <td>24026</td>\n",
       "      <td>Female</td>\n",
       "      <td>Loyal Customer</td>\n",
       "      <td>25</td>\n",
       "      <td>Business travel</td>\n",
       "      <td>Business</td>\n",
       "      <td>562</td>\n",
       "      <td>2</td>\n",
       "      <td>5</td>\n",
       "      <td>5</td>\n",
       "      <td>...</td>\n",
       "      <td>2</td>\n",
       "      <td>2</td>\n",
       "      <td>5</td>\n",
       "      <td>3</td>\n",
       "      <td>1</td>\n",
       "      <td>4</td>\n",
       "      <td>2</td>\n",
       "      <td>11</td>\n",
       "      <td>9.0</td>\n",
       "      <td>neutral or dissatisfied</td>\n",
       "    </tr>\n",
       "    <tr>\n",
       "      <th>4</th>\n",
       "      <td>119299</td>\n",
       "      <td>Male</td>\n",
       "      <td>Loyal Customer</td>\n",
       "      <td>61</td>\n",
       "      <td>Business travel</td>\n",
       "      <td>Business</td>\n",
       "      <td>214</td>\n",
       "      <td>3</td>\n",
       "      <td>3</td>\n",
       "      <td>3</td>\n",
       "      <td>...</td>\n",
       "      <td>3</td>\n",
       "      <td>3</td>\n",
       "      <td>4</td>\n",
       "      <td>4</td>\n",
       "      <td>3</td>\n",
       "      <td>3</td>\n",
       "      <td>3</td>\n",
       "      <td>0</td>\n",
       "      <td>0.0</td>\n",
       "      <td>satisfied</td>\n",
       "    </tr>\n",
       "  </tbody>\n",
       "</table>\n",
       "<p>5 rows × 24 columns</p>\n",
       "</div>"
      ],
      "text/plain": [
       "       id  Gender      Customer_Type  Age   Type_of_Travel     Class  \\\n",
       "0   70172    Male     Loyal Customer   13  Personal Travel  Eco Plus   \n",
       "1    5047    Male  disloyal Customer   25  Business travel  Business   \n",
       "2  110028  Female     Loyal Customer   26  Business travel  Business   \n",
       "3   24026  Female     Loyal Customer   25  Business travel  Business   \n",
       "4  119299    Male     Loyal Customer   61  Business travel  Business   \n",
       "\n",
       "   Flight_Distance  Inflight_wifi_service  Departure/Arrival_time_convenient  \\\n",
       "0              460                      3                                  4   \n",
       "1              235                      3                                  2   \n",
       "2             1142                      2                                  2   \n",
       "3              562                      2                                  5   \n",
       "4              214                      3                                  3   \n",
       "\n",
       "   Ease_of_Online_booking  ...  Inflight_entertainment  On-board_service  \\\n",
       "0                       3  ...                       5                 4   \n",
       "1                       3  ...                       1                 1   \n",
       "2                       2  ...                       5                 4   \n",
       "3                       5  ...                       2                 2   \n",
       "4                       3  ...                       3                 3   \n",
       "\n",
       "   Leg_room_service  Baggage_handling  Checkin_service  Inflight_service  \\\n",
       "0                 3                 4                4                 5   \n",
       "1                 5                 3                1                 4   \n",
       "2                 3                 4                4                 4   \n",
       "3                 5                 3                1                 4   \n",
       "4                 4                 4                3                 3   \n",
       "\n",
       "   Cleanliness  Departure_Delay_in_Minutes  Arrival_Delay_in_Minutes  \\\n",
       "0            5                          25                      18.0   \n",
       "1            1                           1                       6.0   \n",
       "2            5                           0                       0.0   \n",
       "3            2                          11                       9.0   \n",
       "4            3                           0                       0.0   \n",
       "\n",
       "              satisfaction  \n",
       "0  neutral or dissatisfied  \n",
       "1  neutral or dissatisfied  \n",
       "2                satisfied  \n",
       "3  neutral or dissatisfied  \n",
       "4                satisfied  \n",
       "\n",
       "[5 rows x 24 columns]"
      ]
     },
     "execution_count": 110,
     "metadata": {},
     "output_type": "execute_result"
    }
   ],
   "source": [
    "airline_df.head()"
   ]
  },
  {
   "cell_type": "code",
   "execution_count": 111,
   "metadata": {},
   "outputs": [
    {
     "data": {
      "text/plain": [
       "(129880, 24)"
      ]
     },
     "execution_count": 111,
     "metadata": {},
     "output_type": "execute_result"
    }
   ],
   "source": [
    "airline_df.shape"
   ]
  },
  {
   "cell_type": "code",
   "execution_count": 112,
   "metadata": {
    "scrolled": false
   },
   "outputs": [
    {
     "name": "stdout",
     "output_type": "stream",
     "text": [
      "<class 'pandas.core.frame.DataFrame'>\n",
      "RangeIndex: 129880 entries, 0 to 129879\n",
      "Data columns (total 24 columns):\n",
      " #   Column                             Non-Null Count   Dtype  \n",
      "---  ------                             --------------   -----  \n",
      " 0   id                                 129880 non-null  int64  \n",
      " 1   Gender                             129880 non-null  object \n",
      " 2   Customer_Type                      129880 non-null  object \n",
      " 3   Age                                129880 non-null  int64  \n",
      " 4   Type_of_Travel                     129880 non-null  object \n",
      " 5   Class                              129880 non-null  object \n",
      " 6   Flight_Distance                    129880 non-null  int64  \n",
      " 7   Inflight_wifi_service              129880 non-null  int64  \n",
      " 8   Departure/Arrival_time_convenient  129880 non-null  int64  \n",
      " 9   Ease_of_Online_booking             129880 non-null  int64  \n",
      " 10  Gate_location                      129880 non-null  int64  \n",
      " 11  Food_and_drink                     129880 non-null  int64  \n",
      " 12  Online_boarding                    129880 non-null  int64  \n",
      " 13  Seat_comfort                       129880 non-null  int64  \n",
      " 14  Inflight_entertainment             129880 non-null  int64  \n",
      " 15  On-board_service                   129880 non-null  int64  \n",
      " 16  Leg_room_service                   129880 non-null  int64  \n",
      " 17  Baggage_handling                   129880 non-null  int64  \n",
      " 18  Checkin_service                    129880 non-null  int64  \n",
      " 19  Inflight_service                   129880 non-null  int64  \n",
      " 20  Cleanliness                        129880 non-null  int64  \n",
      " 21  Departure_Delay_in_Minutes         129880 non-null  int64  \n",
      " 22  Arrival_Delay_in_Minutes           129487 non-null  float64\n",
      " 23  satisfaction                       129880 non-null  object \n",
      "dtypes: float64(1), int64(18), object(5)\n",
      "memory usage: 23.8+ MB\n"
     ]
    }
   ],
   "source": [
    "airline_df.info()"
   ]
  },
  {
   "cell_type": "code",
   "execution_count": 113,
   "metadata": {},
   "outputs": [
    {
     "data": {
      "text/html": [
       "<div>\n",
       "<style scoped>\n",
       "    .dataframe tbody tr th:only-of-type {\n",
       "        vertical-align: middle;\n",
       "    }\n",
       "\n",
       "    .dataframe tbody tr th {\n",
       "        vertical-align: top;\n",
       "    }\n",
       "\n",
       "    .dataframe thead th {\n",
       "        text-align: right;\n",
       "    }\n",
       "</style>\n",
       "<table border=\"1\" class=\"dataframe\">\n",
       "  <thead>\n",
       "    <tr style=\"text-align: right;\">\n",
       "      <th></th>\n",
       "      <th>count</th>\n",
       "      <th>mean</th>\n",
       "      <th>std</th>\n",
       "      <th>min</th>\n",
       "      <th>25%</th>\n",
       "      <th>50%</th>\n",
       "      <th>75%</th>\n",
       "      <th>max</th>\n",
       "    </tr>\n",
       "  </thead>\n",
       "  <tbody>\n",
       "    <tr>\n",
       "      <th>id</th>\n",
       "      <td>129880.0</td>\n",
       "      <td>64940.500000</td>\n",
       "      <td>37493.270818</td>\n",
       "      <td>1.0</td>\n",
       "      <td>32470.75</td>\n",
       "      <td>64940.5</td>\n",
       "      <td>97410.25</td>\n",
       "      <td>129880.0</td>\n",
       "    </tr>\n",
       "    <tr>\n",
       "      <th>Age</th>\n",
       "      <td>129880.0</td>\n",
       "      <td>39.427957</td>\n",
       "      <td>15.119360</td>\n",
       "      <td>7.0</td>\n",
       "      <td>27.00</td>\n",
       "      <td>40.0</td>\n",
       "      <td>51.00</td>\n",
       "      <td>85.0</td>\n",
       "    </tr>\n",
       "    <tr>\n",
       "      <th>Flight_Distance</th>\n",
       "      <td>129880.0</td>\n",
       "      <td>1190.316392</td>\n",
       "      <td>997.452477</td>\n",
       "      <td>31.0</td>\n",
       "      <td>414.00</td>\n",
       "      <td>844.0</td>\n",
       "      <td>1744.00</td>\n",
       "      <td>4983.0</td>\n",
       "    </tr>\n",
       "    <tr>\n",
       "      <th>Inflight_wifi_service</th>\n",
       "      <td>129880.0</td>\n",
       "      <td>2.728696</td>\n",
       "      <td>1.329340</td>\n",
       "      <td>0.0</td>\n",
       "      <td>2.00</td>\n",
       "      <td>3.0</td>\n",
       "      <td>4.00</td>\n",
       "      <td>5.0</td>\n",
       "    </tr>\n",
       "    <tr>\n",
       "      <th>Departure/Arrival_time_convenient</th>\n",
       "      <td>129880.0</td>\n",
       "      <td>3.057599</td>\n",
       "      <td>1.526741</td>\n",
       "      <td>0.0</td>\n",
       "      <td>2.00</td>\n",
       "      <td>3.0</td>\n",
       "      <td>4.00</td>\n",
       "      <td>5.0</td>\n",
       "    </tr>\n",
       "    <tr>\n",
       "      <th>Ease_of_Online_booking</th>\n",
       "      <td>129880.0</td>\n",
       "      <td>2.756876</td>\n",
       "      <td>1.401740</td>\n",
       "      <td>0.0</td>\n",
       "      <td>2.00</td>\n",
       "      <td>3.0</td>\n",
       "      <td>4.00</td>\n",
       "      <td>5.0</td>\n",
       "    </tr>\n",
       "    <tr>\n",
       "      <th>Gate_location</th>\n",
       "      <td>129880.0</td>\n",
       "      <td>2.976925</td>\n",
       "      <td>1.278520</td>\n",
       "      <td>0.0</td>\n",
       "      <td>2.00</td>\n",
       "      <td>3.0</td>\n",
       "      <td>4.00</td>\n",
       "      <td>5.0</td>\n",
       "    </tr>\n",
       "    <tr>\n",
       "      <th>Food_and_drink</th>\n",
       "      <td>129880.0</td>\n",
       "      <td>3.204774</td>\n",
       "      <td>1.329933</td>\n",
       "      <td>0.0</td>\n",
       "      <td>2.00</td>\n",
       "      <td>3.0</td>\n",
       "      <td>4.00</td>\n",
       "      <td>5.0</td>\n",
       "    </tr>\n",
       "    <tr>\n",
       "      <th>Online_boarding</th>\n",
       "      <td>129880.0</td>\n",
       "      <td>3.252633</td>\n",
       "      <td>1.350719</td>\n",
       "      <td>0.0</td>\n",
       "      <td>2.00</td>\n",
       "      <td>3.0</td>\n",
       "      <td>4.00</td>\n",
       "      <td>5.0</td>\n",
       "    </tr>\n",
       "    <tr>\n",
       "      <th>Seat_comfort</th>\n",
       "      <td>129880.0</td>\n",
       "      <td>3.441361</td>\n",
       "      <td>1.319289</td>\n",
       "      <td>0.0</td>\n",
       "      <td>2.00</td>\n",
       "      <td>4.0</td>\n",
       "      <td>5.00</td>\n",
       "      <td>5.0</td>\n",
       "    </tr>\n",
       "    <tr>\n",
       "      <th>Inflight_entertainment</th>\n",
       "      <td>129880.0</td>\n",
       "      <td>3.358077</td>\n",
       "      <td>1.334049</td>\n",
       "      <td>0.0</td>\n",
       "      <td>2.00</td>\n",
       "      <td>4.0</td>\n",
       "      <td>4.00</td>\n",
       "      <td>5.0</td>\n",
       "    </tr>\n",
       "    <tr>\n",
       "      <th>On-board_service</th>\n",
       "      <td>129880.0</td>\n",
       "      <td>3.383023</td>\n",
       "      <td>1.287099</td>\n",
       "      <td>0.0</td>\n",
       "      <td>2.00</td>\n",
       "      <td>4.0</td>\n",
       "      <td>4.00</td>\n",
       "      <td>5.0</td>\n",
       "    </tr>\n",
       "    <tr>\n",
       "      <th>Leg_room_service</th>\n",
       "      <td>129880.0</td>\n",
       "      <td>3.350878</td>\n",
       "      <td>1.316252</td>\n",
       "      <td>0.0</td>\n",
       "      <td>2.00</td>\n",
       "      <td>4.0</td>\n",
       "      <td>4.00</td>\n",
       "      <td>5.0</td>\n",
       "    </tr>\n",
       "    <tr>\n",
       "      <th>Baggage_handling</th>\n",
       "      <td>129880.0</td>\n",
       "      <td>3.632114</td>\n",
       "      <td>1.180025</td>\n",
       "      <td>1.0</td>\n",
       "      <td>3.00</td>\n",
       "      <td>4.0</td>\n",
       "      <td>5.00</td>\n",
       "      <td>5.0</td>\n",
       "    </tr>\n",
       "    <tr>\n",
       "      <th>Checkin_service</th>\n",
       "      <td>129880.0</td>\n",
       "      <td>3.306267</td>\n",
       "      <td>1.266185</td>\n",
       "      <td>0.0</td>\n",
       "      <td>3.00</td>\n",
       "      <td>3.0</td>\n",
       "      <td>4.00</td>\n",
       "      <td>5.0</td>\n",
       "    </tr>\n",
       "    <tr>\n",
       "      <th>Inflight_service</th>\n",
       "      <td>129880.0</td>\n",
       "      <td>3.642193</td>\n",
       "      <td>1.176669</td>\n",
       "      <td>0.0</td>\n",
       "      <td>3.00</td>\n",
       "      <td>4.0</td>\n",
       "      <td>5.00</td>\n",
       "      <td>5.0</td>\n",
       "    </tr>\n",
       "    <tr>\n",
       "      <th>Cleanliness</th>\n",
       "      <td>129880.0</td>\n",
       "      <td>3.286326</td>\n",
       "      <td>1.313682</td>\n",
       "      <td>0.0</td>\n",
       "      <td>2.00</td>\n",
       "      <td>3.0</td>\n",
       "      <td>4.00</td>\n",
       "      <td>5.0</td>\n",
       "    </tr>\n",
       "    <tr>\n",
       "      <th>Departure_Delay_in_Minutes</th>\n",
       "      <td>129880.0</td>\n",
       "      <td>14.713713</td>\n",
       "      <td>38.071126</td>\n",
       "      <td>0.0</td>\n",
       "      <td>0.00</td>\n",
       "      <td>0.0</td>\n",
       "      <td>12.00</td>\n",
       "      <td>1592.0</td>\n",
       "    </tr>\n",
       "    <tr>\n",
       "      <th>Arrival_Delay_in_Minutes</th>\n",
       "      <td>129487.0</td>\n",
       "      <td>15.091129</td>\n",
       "      <td>38.465650</td>\n",
       "      <td>0.0</td>\n",
       "      <td>0.00</td>\n",
       "      <td>0.0</td>\n",
       "      <td>13.00</td>\n",
       "      <td>1584.0</td>\n",
       "    </tr>\n",
       "  </tbody>\n",
       "</table>\n",
       "</div>"
      ],
      "text/plain": [
       "                                      count          mean           std   min  \\\n",
       "id                                 129880.0  64940.500000  37493.270818   1.0   \n",
       "Age                                129880.0     39.427957     15.119360   7.0   \n",
       "Flight_Distance                    129880.0   1190.316392    997.452477  31.0   \n",
       "Inflight_wifi_service              129880.0      2.728696      1.329340   0.0   \n",
       "Departure/Arrival_time_convenient  129880.0      3.057599      1.526741   0.0   \n",
       "Ease_of_Online_booking             129880.0      2.756876      1.401740   0.0   \n",
       "Gate_location                      129880.0      2.976925      1.278520   0.0   \n",
       "Food_and_drink                     129880.0      3.204774      1.329933   0.0   \n",
       "Online_boarding                    129880.0      3.252633      1.350719   0.0   \n",
       "Seat_comfort                       129880.0      3.441361      1.319289   0.0   \n",
       "Inflight_entertainment             129880.0      3.358077      1.334049   0.0   \n",
       "On-board_service                   129880.0      3.383023      1.287099   0.0   \n",
       "Leg_room_service                   129880.0      3.350878      1.316252   0.0   \n",
       "Baggage_handling                   129880.0      3.632114      1.180025   1.0   \n",
       "Checkin_service                    129880.0      3.306267      1.266185   0.0   \n",
       "Inflight_service                   129880.0      3.642193      1.176669   0.0   \n",
       "Cleanliness                        129880.0      3.286326      1.313682   0.0   \n",
       "Departure_Delay_in_Minutes         129880.0     14.713713     38.071126   0.0   \n",
       "Arrival_Delay_in_Minutes           129487.0     15.091129     38.465650   0.0   \n",
       "\n",
       "                                        25%      50%       75%       max  \n",
       "id                                 32470.75  64940.5  97410.25  129880.0  \n",
       "Age                                   27.00     40.0     51.00      85.0  \n",
       "Flight_Distance                      414.00    844.0   1744.00    4983.0  \n",
       "Inflight_wifi_service                  2.00      3.0      4.00       5.0  \n",
       "Departure/Arrival_time_convenient      2.00      3.0      4.00       5.0  \n",
       "Ease_of_Online_booking                 2.00      3.0      4.00       5.0  \n",
       "Gate_location                          2.00      3.0      4.00       5.0  \n",
       "Food_and_drink                         2.00      3.0      4.00       5.0  \n",
       "Online_boarding                        2.00      3.0      4.00       5.0  \n",
       "Seat_comfort                           2.00      4.0      5.00       5.0  \n",
       "Inflight_entertainment                 2.00      4.0      4.00       5.0  \n",
       "On-board_service                       2.00      4.0      4.00       5.0  \n",
       "Leg_room_service                       2.00      4.0      4.00       5.0  \n",
       "Baggage_handling                       3.00      4.0      5.00       5.0  \n",
       "Checkin_service                        3.00      3.0      4.00       5.0  \n",
       "Inflight_service                       3.00      4.0      5.00       5.0  \n",
       "Cleanliness                            2.00      3.0      4.00       5.0  \n",
       "Departure_Delay_in_Minutes             0.00      0.0     12.00    1592.0  \n",
       "Arrival_Delay_in_Minutes               0.00      0.0     13.00    1584.0  "
      ]
     },
     "execution_count": 113,
     "metadata": {},
     "output_type": "execute_result"
    }
   ],
   "source": [
    "airline_df.describe().transpose()"
   ]
  },
  {
   "cell_type": "markdown",
   "metadata": {},
   "source": [
    "### 3. Handle Missing Values"
   ]
  },
  {
   "cell_type": "code",
   "execution_count": 114,
   "metadata": {},
   "outputs": [
    {
     "data": {
      "text/plain": [
       "id                                     0\n",
       "Gender                                 0\n",
       "Customer_Type                          0\n",
       "Age                                    0\n",
       "Type_of_Travel                         0\n",
       "Class                                  0\n",
       "Flight_Distance                        0\n",
       "Inflight_wifi_service                  0\n",
       "Departure/Arrival_time_convenient      0\n",
       "Ease_of_Online_booking                 0\n",
       "Gate_location                          0\n",
       "Food_and_drink                         0\n",
       "Online_boarding                        0\n",
       "Seat_comfort                           0\n",
       "Inflight_entertainment                 0\n",
       "On-board_service                       0\n",
       "Leg_room_service                       0\n",
       "Baggage_handling                       0\n",
       "Checkin_service                        0\n",
       "Inflight_service                       0\n",
       "Cleanliness                            0\n",
       "Departure_Delay_in_Minutes             0\n",
       "Arrival_Delay_in_Minutes             393\n",
       "satisfaction                           0\n",
       "dtype: int64"
      ]
     },
     "execution_count": 114,
     "metadata": {},
     "output_type": "execute_result"
    }
   ],
   "source": [
    "airline_df.isnull().sum()"
   ]
  },
  {
   "cell_type": "code",
   "execution_count": 115,
   "metadata": {},
   "outputs": [
    {
     "data": {
      "text/plain": [
       "0.003025870033877425"
      ]
     },
     "execution_count": 115,
     "metadata": {},
     "output_type": "execute_result"
    }
   ],
   "source": [
    "# percentage of missing values\n",
    "393/129880"
   ]
  },
  {
   "cell_type": "markdown",
   "metadata": {},
   "source": [
    "- Here, Arrival_Delay_in_Minutes is the only column that contains NaN values. Since it contains only 0.3% missing values, we may consider to drop the rows directly or use median inputation. Here, I chose the former option -- median inputation."
   ]
  },
  {
   "cell_type": "markdown",
   "metadata": {},
   "source": [
    "#### Median Imputation & Change Dtype Using Cleaning Pipeline"
   ]
  },
  {
   "cell_type": "markdown",
   "metadata": {},
   "source": [
    "Reasons why we use median value over mean is that mean imputation does not preserve relationship between variables, and it tends to increase bias in data."
   ]
  },
  {
   "cell_type": "code",
   "execution_count": 116,
   "metadata": {},
   "outputs": [],
   "source": [
    "# apply two functions\n",
    "airline_df = (airline_df.pipe(copy_df).\n",
    "              pipe(median_inpute, \"Arrival_Delay_in_Minutes\").\n",
    "              pipe(to_category))"
   ]
  },
  {
   "cell_type": "code",
   "execution_count": 117,
   "metadata": {},
   "outputs": [
    {
     "name": "stdout",
     "output_type": "stream",
     "text": [
      "<class 'pandas.core.frame.DataFrame'>\n",
      "RangeIndex: 129880 entries, 0 to 129879\n",
      "Data columns (total 24 columns):\n",
      " #   Column                             Non-Null Count   Dtype   \n",
      "---  ------                             --------------   -----   \n",
      " 0   id                                 129880 non-null  int64   \n",
      " 1   Gender                             129880 non-null  category\n",
      " 2   Customer_Type                      129880 non-null  category\n",
      " 3   Age                                129880 non-null  int64   \n",
      " 4   Type_of_Travel                     129880 non-null  category\n",
      " 5   Class                              129880 non-null  category\n",
      " 6   Flight_Distance                    129880 non-null  int64   \n",
      " 7   Inflight_wifi_service              129880 non-null  int64   \n",
      " 8   Departure/Arrival_time_convenient  129880 non-null  int64   \n",
      " 9   Ease_of_Online_booking             129880 non-null  int64   \n",
      " 10  Gate_location                      129880 non-null  int64   \n",
      " 11  Food_and_drink                     129880 non-null  int64   \n",
      " 12  Online_boarding                    129880 non-null  int64   \n",
      " 13  Seat_comfort                       129880 non-null  int64   \n",
      " 14  Inflight_entertainment             129880 non-null  int64   \n",
      " 15  On-board_service                   129880 non-null  int64   \n",
      " 16  Leg_room_service                   129880 non-null  int64   \n",
      " 17  Baggage_handling                   129880 non-null  int64   \n",
      " 18  Checkin_service                    129880 non-null  int64   \n",
      " 19  Inflight_service                   129880 non-null  int64   \n",
      " 20  Cleanliness                        129880 non-null  int64   \n",
      " 21  Departure_Delay_in_Minutes         129880 non-null  int64   \n",
      " 22  Arrival_Delay_in_Minutes           129880 non-null  float64 \n",
      " 23  satisfaction                       129880 non-null  category\n",
      "dtypes: category(5), float64(1), int64(18)\n",
      "memory usage: 19.4 MB\n"
     ]
    }
   ],
   "source": [
    "airline_df.info()"
   ]
  },
  {
   "cell_type": "markdown",
   "metadata": {},
   "source": [
    "- From above, we have no null values after imputation, and the \"object\"dtype columns has been changed to a \"category\" dtype, which also decrease the memory usage from 23.8+ MB to 19.4 MB."
   ]
  },
  {
   "cell_type": "markdown",
   "metadata": {},
   "source": [
    "### 4. Inspect Outliers"
   ]
  },
  {
   "cell_type": "markdown",
   "metadata": {},
   "source": [
    "Here, I will only inspect the numerical columns since other columns related to ratings all range from 0 to 5, so we do not need to worry about those. "
   ]
  },
  {
   "cell_type": "code",
   "execution_count": 118,
   "metadata": {},
   "outputs": [],
   "source": [
    "quant_list = [\"Age\", \"Flight_Distance\", \"Departure_Delay_in_Minutes\", \"Arrival_Delay_in_Minutes\"]"
   ]
  },
  {
   "cell_type": "code",
   "execution_count": 119,
   "metadata": {
    "scrolled": false
   },
   "outputs": [
    {
     "data": {
      "image/png": "[encoded data removed]",
      "text/plain": [
       "<Figure size 1440x720 with 4 Axes>"
      ]
     },
     "metadata": {
      "needs_background": "light"
     },
     "output_type": "display_data"
    }
   ],
   "source": [
    "plt.figure(figsize=(20,10))\n",
    "\n",
    "for i in range(len(quant_list)):\n",
    "    plt.subplot(1, len(quant_list), i+1) \n",
    "    plt.boxplot(airline_df[quant_list[i]]) \n",
    "    plt.title(quant_list[i],fontsize=20)\n",
    "    \n",
    "plt.show()"
   ]
  },
  {
   "cell_type": "markdown",
   "metadata": {},
   "source": [
    "- We could see that the Flight_Distance, Departure_Delay_in_Minutes, and Arrival_Delay_in_Minutes all have some outliers, so we will apply the pipeline function again to remove the outliers."
   ]
  },
  {
   "cell_type": "markdown",
   "metadata": {},
   "source": [
    "**Outlier-Removing Method:**\n",
    "There are many commonly used ways of handling outliers. For example, we could include data with only within three standard deviations, or we could keep data only between Q1-1.5 IQR and Q3+1.5 IQR. But from above function definition, you may notice that the way how I handled this is by dropping values below 0.05 quantile or above 0.95 quantile."
   ]
  },
  {
   "cell_type": "code",
   "execution_count": 120,
   "metadata": {},
   "outputs": [],
   "source": [
    "airline_df = (airline_df.pipe(copy_df).\n",
    "              pipe(remove_outliers, \"Flight_Distance\").\n",
    "              pipe(remove_outliers, \"Departure_Delay_in_Minutes\").\n",
    "              pipe(remove_outliers, \"Arrival_Delay_in_Minutes\"))"
   ]
  },
  {
   "cell_type": "markdown",
   "metadata": {},
   "source": [
    "Now, check again:"
   ]
  },
  {
   "cell_type": "code",
   "execution_count": 121,
   "metadata": {},
   "outputs": [
    {
     "data": {
      "image/png": "[encoded data removed]",
      "text/plain": [
       "<Figure size 1440x720 with 4 Axes>"
      ]
     },
     "metadata": {
      "needs_background": "light"
     },
     "output_type": "display_data"
    }
   ],
   "source": [
    "plt.figure(figsize=(20,10))\n",
    "\n",
    "for i in range(len(quant_list)):\n",
    "    plt.subplot(1, len(quant_list), i+1) \n",
    "    plt.boxplot(airline_df[quant_list[i]]) \n",
    "    plt.title(quant_list[i],fontsize=20)\n",
    "    \n",
    "plt.show()"
   ]
  },
  {
   "cell_type": "markdown",
   "metadata": {},
   "source": [
    "- The above plots after outlier-removing look much better. "
   ]
  },
  {
   "cell_type": "code",
   "execution_count": 122,
   "metadata": {},
   "outputs": [
    {
     "name": "stdout",
     "output_type": "stream",
     "text": [
      "<class 'pandas.core.frame.DataFrame'>\n",
      "Int64Index: 105722 entries, 0 to 129879\n",
      "Data columns (total 24 columns):\n",
      " #   Column                             Non-Null Count   Dtype   \n",
      "---  ------                             --------------   -----   \n",
      " 0   id                                 105722 non-null  int64   \n",
      " 1   Gender                             105722 non-null  category\n",
      " 2   Customer_Type                      105722 non-null  category\n",
      " 3   Age                                105722 non-null  int64   \n",
      " 4   Type_of_Travel                     105722 non-null  category\n",
      " 5   Class                              105722 non-null  category\n",
      " 6   Flight_Distance                    105722 non-null  int64   \n",
      " 7   Inflight_wifi_service              105722 non-null  int64   \n",
      " 8   Departure/Arrival_time_convenient  105722 non-null  int64   \n",
      " 9   Ease_of_Online_booking             105722 non-null  int64   \n",
      " 10  Gate_location                      105722 non-null  int64   \n",
      " 11  Food_and_drink                     105722 non-null  int64   \n",
      " 12  Online_boarding                    105722 non-null  int64   \n",
      " 13  Seat_comfort                       105722 non-null  int64   \n",
      " 14  Inflight_entertainment             105722 non-null  int64   \n",
      " 15  On-board_service                   105722 non-null  int64   \n",
      " 16  Leg_room_service                   105722 non-null  int64   \n",
      " 17  Baggage_handling                   105722 non-null  int64   \n",
      " 18  Checkin_service                    105722 non-null  int64   \n",
      " 19  Inflight_service                   105722 non-null  int64   \n",
      " 20  Cleanliness                        105722 non-null  int64   \n",
      " 21  Departure_Delay_in_Minutes         105722 non-null  int64   \n",
      " 22  Arrival_Delay_in_Minutes           105722 non-null  float64 \n",
      " 23  satisfaction                       105722 non-null  category\n",
      "dtypes: category(5), float64(1), int64(18)\n",
      "memory usage: 16.6 MB\n"
     ]
    }
   ],
   "source": [
    "airline_df.info()"
   ]
  },
  {
   "cell_type": "markdown",
   "metadata": {},
   "source": [
    "### 5. Data Visualization and Analysis"
   ]
  },
  {
   "cell_type": "code",
   "execution_count": 123,
   "metadata": {},
   "outputs": [
    {
     "data": {
      "text/html": [
       "<div>\n",
       "<style scoped>\n",
       "    .dataframe tbody tr th:only-of-type {\n",
       "        vertical-align: middle;\n",
       "    }\n",
       "\n",
       "    .dataframe tbody tr th {\n",
       "        vertical-align: top;\n",
       "    }\n",
       "\n",
       "    .dataframe thead th {\n",
       "        text-align: right;\n",
       "    }\n",
       "</style>\n",
       "<table border=\"1\" class=\"dataframe\">\n",
       "  <thead>\n",
       "    <tr style=\"text-align: right;\">\n",
       "      <th></th>\n",
       "      <th>count</th>\n",
       "      <th>mean</th>\n",
       "      <th>std</th>\n",
       "      <th>min</th>\n",
       "      <th>25%</th>\n",
       "      <th>50%</th>\n",
       "      <th>75%</th>\n",
       "      <th>max</th>\n",
       "    </tr>\n",
       "  </thead>\n",
       "  <tbody>\n",
       "    <tr>\n",
       "      <th>id</th>\n",
       "      <td>105722.0</td>\n",
       "      <td>66858.540313</td>\n",
       "      <td>37264.720130</td>\n",
       "      <td>1.0</td>\n",
       "      <td>34854.25</td>\n",
       "      <td>68070.5</td>\n",
       "      <td>98915.00</td>\n",
       "      <td>129880.0</td>\n",
       "    </tr>\n",
       "    <tr>\n",
       "      <th>Age</th>\n",
       "      <td>105722.0</td>\n",
       "      <td>39.204262</td>\n",
       "      <td>15.221135</td>\n",
       "      <td>7.0</td>\n",
       "      <td>27.00</td>\n",
       "      <td>40.0</td>\n",
       "      <td>51.00</td>\n",
       "      <td>85.0</td>\n",
       "    </tr>\n",
       "    <tr>\n",
       "      <th>Flight_Distance</th>\n",
       "      <td>105722.0</td>\n",
       "      <td>1113.329430</td>\n",
       "      <td>827.772245</td>\n",
       "      <td>177.0</td>\n",
       "      <td>447.00</td>\n",
       "      <td>846.0</td>\n",
       "      <td>1618.75</td>\n",
       "      <td>3380.0</td>\n",
       "    </tr>\n",
       "    <tr>\n",
       "      <th>Inflight_wifi_service</th>\n",
       "      <td>105722.0</td>\n",
       "      <td>2.734445</td>\n",
       "      <td>1.325411</td>\n",
       "      <td>0.0</td>\n",
       "      <td>2.00</td>\n",
       "      <td>3.0</td>\n",
       "      <td>4.00</td>\n",
       "      <td>5.0</td>\n",
       "    </tr>\n",
       "    <tr>\n",
       "      <th>Departure/Arrival_time_convenient</th>\n",
       "      <td>105722.0</td>\n",
       "      <td>3.069040</td>\n",
       "      <td>1.526803</td>\n",
       "      <td>0.0</td>\n",
       "      <td>2.00</td>\n",
       "      <td>3.0</td>\n",
       "      <td>4.00</td>\n",
       "      <td>5.0</td>\n",
       "    </tr>\n",
       "    <tr>\n",
       "      <th>Ease_of_Online_booking</th>\n",
       "      <td>105722.0</td>\n",
       "      <td>2.765347</td>\n",
       "      <td>1.391018</td>\n",
       "      <td>0.0</td>\n",
       "      <td>2.00</td>\n",
       "      <td>3.0</td>\n",
       "      <td>4.00</td>\n",
       "      <td>5.0</td>\n",
       "    </tr>\n",
       "    <tr>\n",
       "      <th>Gate_location</th>\n",
       "      <td>105722.0</td>\n",
       "      <td>2.975313</td>\n",
       "      <td>1.274625</td>\n",
       "      <td>0.0</td>\n",
       "      <td>2.00</td>\n",
       "      <td>3.0</td>\n",
       "      <td>4.00</td>\n",
       "      <td>5.0</td>\n",
       "    </tr>\n",
       "    <tr>\n",
       "      <th>Food_and_drink</th>\n",
       "      <td>105722.0</td>\n",
       "      <td>3.204915</td>\n",
       "      <td>1.329811</td>\n",
       "      <td>0.0</td>\n",
       "      <td>2.00</td>\n",
       "      <td>3.0</td>\n",
       "      <td>4.00</td>\n",
       "      <td>5.0</td>\n",
       "    </tr>\n",
       "    <tr>\n",
       "      <th>Online_boarding</th>\n",
       "      <td>105722.0</td>\n",
       "      <td>3.246373</td>\n",
       "      <td>1.344662</td>\n",
       "      <td>0.0</td>\n",
       "      <td>2.00</td>\n",
       "      <td>3.0</td>\n",
       "      <td>4.00</td>\n",
       "      <td>5.0</td>\n",
       "    </tr>\n",
       "    <tr>\n",
       "      <th>Seat_comfort</th>\n",
       "      <td>105722.0</td>\n",
       "      <td>3.435557</td>\n",
       "      <td>1.322488</td>\n",
       "      <td>1.0</td>\n",
       "      <td>2.00</td>\n",
       "      <td>4.0</td>\n",
       "      <td>5.00</td>\n",
       "      <td>5.0</td>\n",
       "    </tr>\n",
       "    <tr>\n",
       "      <th>Inflight_entertainment</th>\n",
       "      <td>105722.0</td>\n",
       "      <td>3.345434</td>\n",
       "      <td>1.338920</td>\n",
       "      <td>0.0</td>\n",
       "      <td>2.00</td>\n",
       "      <td>4.0</td>\n",
       "      <td>4.00</td>\n",
       "      <td>5.0</td>\n",
       "    </tr>\n",
       "    <tr>\n",
       "      <th>On-board_service</th>\n",
       "      <td>105722.0</td>\n",
       "      <td>3.386306</td>\n",
       "      <td>1.285076</td>\n",
       "      <td>0.0</td>\n",
       "      <td>2.00</td>\n",
       "      <td>4.0</td>\n",
       "      <td>4.00</td>\n",
       "      <td>5.0</td>\n",
       "    </tr>\n",
       "    <tr>\n",
       "      <th>Leg_room_service</th>\n",
       "      <td>105722.0</td>\n",
       "      <td>3.337111</td>\n",
       "      <td>1.317960</td>\n",
       "      <td>0.0</td>\n",
       "      <td>2.00</td>\n",
       "      <td>4.0</td>\n",
       "      <td>4.00</td>\n",
       "      <td>5.0</td>\n",
       "    </tr>\n",
       "    <tr>\n",
       "      <th>Baggage_handling</th>\n",
       "      <td>105722.0</td>\n",
       "      <td>3.637587</td>\n",
       "      <td>1.178914</td>\n",
       "      <td>1.0</td>\n",
       "      <td>3.00</td>\n",
       "      <td>4.0</td>\n",
       "      <td>5.00</td>\n",
       "      <td>5.0</td>\n",
       "    </tr>\n",
       "    <tr>\n",
       "      <th>Checkin_service</th>\n",
       "      <td>105722.0</td>\n",
       "      <td>3.317985</td>\n",
       "      <td>1.261543</td>\n",
       "      <td>1.0</td>\n",
       "      <td>3.00</td>\n",
       "      <td>3.0</td>\n",
       "      <td>4.00</td>\n",
       "      <td>5.0</td>\n",
       "    </tr>\n",
       "    <tr>\n",
       "      <th>Inflight_service</th>\n",
       "      <td>105722.0</td>\n",
       "      <td>3.659645</td>\n",
       "      <td>1.169582</td>\n",
       "      <td>0.0</td>\n",
       "      <td>3.00</td>\n",
       "      <td>4.0</td>\n",
       "      <td>5.00</td>\n",
       "      <td>5.0</td>\n",
       "    </tr>\n",
       "    <tr>\n",
       "      <th>Cleanliness</th>\n",
       "      <td>105722.0</td>\n",
       "      <td>3.281597</td>\n",
       "      <td>1.314123</td>\n",
       "      <td>0.0</td>\n",
       "      <td>2.00</td>\n",
       "      <td>3.0</td>\n",
       "      <td>4.00</td>\n",
       "      <td>5.0</td>\n",
       "    </tr>\n",
       "    <tr>\n",
       "      <th>Departure_Delay_in_Minutes</th>\n",
       "      <td>105722.0</td>\n",
       "      <td>5.853786</td>\n",
       "      <td>11.236880</td>\n",
       "      <td>0.0</td>\n",
       "      <td>0.00</td>\n",
       "      <td>0.0</td>\n",
       "      <td>7.00</td>\n",
       "      <td>77.0</td>\n",
       "    </tr>\n",
       "    <tr>\n",
       "      <th>Arrival_Delay_in_Minutes</th>\n",
       "      <td>105722.0</td>\n",
       "      <td>5.684531</td>\n",
       "      <td>10.359355</td>\n",
       "      <td>0.0</td>\n",
       "      <td>0.00</td>\n",
       "      <td>0.0</td>\n",
       "      <td>7.00</td>\n",
       "      <td>46.0</td>\n",
       "    </tr>\n",
       "  </tbody>\n",
       "</table>\n",
       "</div>"
      ],
      "text/plain": [
       "                                      count          mean           std  \\\n",
       "id                                 105722.0  66858.540313  37264.720130   \n",
       "Age                                105722.0     39.204262     15.221135   \n",
       "Flight_Distance                    105722.0   1113.329430    827.772245   \n",
       "Inflight_wifi_service              105722.0      2.734445      1.325411   \n",
       "Departure/Arrival_time_convenient  105722.0      3.069040      1.526803   \n",
       "Ease_of_Online_booking             105722.0      2.765347      1.391018   \n",
       "Gate_location                      105722.0      2.975313      1.274625   \n",
       "Food_and_drink                     105722.0      3.204915      1.329811   \n",
       "Online_boarding                    105722.0      3.246373      1.344662   \n",
       "Seat_comfort                       105722.0      3.435557      1.322488   \n",
       "Inflight_entertainment             105722.0      3.345434      1.338920   \n",
       "On-board_service                   105722.0      3.386306      1.285076   \n",
       "Leg_room_service                   105722.0      3.337111      1.317960   \n",
       "Baggage_handling                   105722.0      3.637587      1.178914   \n",
       "Checkin_service                    105722.0      3.317985      1.261543   \n",
       "Inflight_service                   105722.0      3.659645      1.169582   \n",
       "Cleanliness                        105722.0      3.281597      1.314123   \n",
       "Departure_Delay_in_Minutes         105722.0      5.853786     11.236880   \n",
       "Arrival_Delay_in_Minutes           105722.0      5.684531     10.359355   \n",
       "\n",
       "                                     min       25%      50%       75%  \\\n",
       "id                                   1.0  34854.25  68070.5  98915.00   \n",
       "Age                                  7.0     27.00     40.0     51.00   \n",
       "Flight_Distance                    177.0    447.00    846.0   1618.75   \n",
       "Inflight_wifi_service                0.0      2.00      3.0      4.00   \n",
       "Departure/Arrival_time_convenient    0.0      2.00      3.0      4.00   \n",
       "Ease_of_Online_booking               0.0      2.00      3.0      4.00   \n",
       "Gate_location                        0.0      2.00      3.0      4.00   \n",
       "Food_and_drink                       0.0      2.00      3.0      4.00   \n",
       "Online_boarding                      0.0      2.00      3.0      4.00   \n",
       "Seat_comfort                         1.0      2.00      4.0      5.00   \n",
       "Inflight_entertainment               0.0      2.00      4.0      4.00   \n",
       "On-board_service                     0.0      2.00      4.0      4.00   \n",
       "Leg_room_service                     0.0      2.00      4.0      4.00   \n",
       "Baggage_handling                     1.0      3.00      4.0      5.00   \n",
       "Checkin_service                      1.0      3.00      3.0      4.00   \n",
       "Inflight_service                     0.0      3.00      4.0      5.00   \n",
       "Cleanliness                          0.0      2.00      3.0      4.00   \n",
       "Departure_Delay_in_Minutes           0.0      0.00      0.0      7.00   \n",
       "Arrival_Delay_in_Minutes             0.0      0.00      0.0      7.00   \n",
       "\n",
       "                                        max  \n",
       "id                                 129880.0  \n",
       "Age                                    85.0  \n",
       "Flight_Distance                      3380.0  \n",
       "Inflight_wifi_service                   5.0  \n",
       "Departure/Arrival_time_convenient       5.0  \n",
       "Ease_of_Online_booking                  5.0  \n",
       "Gate_location                           5.0  \n",
       "Food_and_drink                          5.0  \n",
       "Online_boarding                         5.0  \n",
       "Seat_comfort                            5.0  \n",
       "Inflight_entertainment                  5.0  \n",
       "On-board_service                        5.0  \n",
       "Leg_room_service                        5.0  \n",
       "Baggage_handling                        5.0  \n",
       "Checkin_service                         5.0  \n",
       "Inflight_service                        5.0  \n",
       "Cleanliness                             5.0  \n",
       "Departure_Delay_in_Minutes             77.0  \n",
       "Arrival_Delay_in_Minutes               46.0  "
      ]
     },
     "execution_count": 123,
     "metadata": {},
     "output_type": "execute_result"
    }
   ],
   "source": [
    "airline_df.describe().transpose()"
   ]
  },
  {
   "cell_type": "markdown",
   "metadata": {},
   "source": [
    "#### Satisfaction:"
   ]
  },
  {
   "cell_type": "code",
   "execution_count": 124,
   "metadata": {},
   "outputs": [
    {
     "data": {
      "text/html": [
       "<div>\n",
       "<style scoped>\n",
       "    .dataframe tbody tr th:only-of-type {\n",
       "        vertical-align: middle;\n",
       "    }\n",
       "\n",
       "    .dataframe tbody tr th {\n",
       "        vertical-align: top;\n",
       "    }\n",
       "\n",
       "    .dataframe thead th {\n",
       "        text-align: right;\n",
       "    }\n",
       "</style>\n",
       "<table border=\"1\" class=\"dataframe\">\n",
       "  <thead>\n",
       "    <tr style=\"text-align: right;\">\n",
       "      <th></th>\n",
       "      <th>satisfaction</th>\n",
       "      <th>count</th>\n",
       "    </tr>\n",
       "  </thead>\n",
       "  <tbody>\n",
       "    <tr>\n",
       "      <th>0</th>\n",
       "      <td>neutral or dissatisfied</td>\n",
       "      <td>60529</td>\n",
       "    </tr>\n",
       "    <tr>\n",
       "      <th>1</th>\n",
       "      <td>satisfied</td>\n",
       "      <td>45193</td>\n",
       "    </tr>\n",
       "  </tbody>\n",
       "</table>\n",
       "</div>"
      ],
      "text/plain": [
       "              satisfaction  count\n",
       "0  neutral or dissatisfied  60529\n",
       "1                satisfied  45193"
      ]
     },
     "execution_count": 124,
     "metadata": {},
     "output_type": "execute_result"
    }
   ],
   "source": [
    "satisfaction = airline_df[\"satisfaction\"].value_counts().reset_index()\n",
    "satisfaction.columns = [\"satisfaction\", \"count\"]\n",
    "satisfaction "
   ]
  },
  {
   "cell_type": "code",
   "execution_count": 125,
   "metadata": {},
   "outputs": [
    {
     "data": {
      "text/plain": [
       "neutral or dissatisfied    0.57253\n",
       "satisfied                  0.42747\n",
       "Name: satisfaction, dtype: float64"
      ]
     },
     "execution_count": 125,
     "metadata": {},
     "output_type": "execute_result"
    }
   ],
   "source": [
    "airline_df[\"satisfaction\"].value_counts()/airline_df.shape[0]"
   ]
  },
  {
   "cell_type": "code",
   "execution_count": 126,
   "metadata": {},
   "outputs": [
    {
     "data": {
      "image/png": "[encoded data removed]",
      "text/plain": [
       "<Figure size 432x288 with 1 Axes>"
      ]
     },
     "metadata": {
      "needs_background": "light"
     },
     "output_type": "display_data"
    }
   ],
   "source": [
    "plt.bar(x = [\"neutral or dissatisfied\", \"satisfied\"], height = \"count\", data = satisfaction, color = \"darkred\")\n",
    "plt.ylabel(\"Count\")\n",
    "plt.show()"
   ]
  },
  {
   "cell_type": "markdown",
   "metadata": {},
   "source": [
    "- From the above, our two class are pretty balanced, approximately half and half."
   ]
  },
  {
   "cell_type": "markdown",
   "metadata": {},
   "source": [
    "#### Customer_Type:"
   ]
  },
  {
   "cell_type": "code",
   "execution_count": 127,
   "metadata": {},
   "outputs": [
    {
     "data": {
      "text/html": [
       "<div>\n",
       "<style scoped>\n",
       "    .dataframe tbody tr th:only-of-type {\n",
       "        vertical-align: middle;\n",
       "    }\n",
       "\n",
       "    .dataframe tbody tr th {\n",
       "        vertical-align: top;\n",
       "    }\n",
       "\n",
       "    .dataframe thead th {\n",
       "        text-align: right;\n",
       "    }\n",
       "</style>\n",
       "<table border=\"1\" class=\"dataframe\">\n",
       "  <thead>\n",
       "    <tr style=\"text-align: right;\">\n",
       "      <th></th>\n",
       "      <th>customer_type</th>\n",
       "      <th>count</th>\n",
       "    </tr>\n",
       "  </thead>\n",
       "  <tbody>\n",
       "    <tr>\n",
       "      <th>0</th>\n",
       "      <td>Loyal Customer</td>\n",
       "      <td>85708</td>\n",
       "    </tr>\n",
       "    <tr>\n",
       "      <th>1</th>\n",
       "      <td>disloyal Customer</td>\n",
       "      <td>20014</td>\n",
       "    </tr>\n",
       "  </tbody>\n",
       "</table>\n",
       "</div>"
      ],
      "text/plain": [
       "       customer_type  count\n",
       "0     Loyal Customer  85708\n",
       "1  disloyal Customer  20014"
      ]
     },
     "execution_count": 127,
     "metadata": {},
     "output_type": "execute_result"
    }
   ],
   "source": [
    "customer_type = airline_df[\"Customer_Type\"].value_counts().reset_index()\n",
    "customer_type.columns = [\"customer_type\", \"count\"]\n",
    "customer_type"
   ]
  },
  {
   "cell_type": "code",
   "execution_count": 128,
   "metadata": {},
   "outputs": [
    {
     "data": {
      "image/png": "[encoded data removed]",
      "text/plain": [
       "<Figure size 432x288 with 1 Axes>"
      ]
     },
     "metadata": {
      "needs_background": "light"
     },
     "output_type": "display_data"
    }
   ],
   "source": [
    "plt.bar(x = [\"Loyal Customer\", \"disloyal Customer\"], height = \"count\", data = customer_type, color = \"darkgreen\")\n",
    "plt.ylabel(\"Count\")\n",
    "plt.show()"
   ]
  },
  {
   "cell_type": "markdown",
   "metadata": {},
   "source": [
    "#### Age:"
   ]
  },
  {
   "cell_type": "code",
   "execution_count": 129,
   "metadata": {},
   "outputs": [
    {
     "data": {
      "image/png": "[encoded data removed]",
      "text/plain": [
       "<Figure size 432x288 with 1 Axes>"
      ]
     },
     "metadata": {
      "needs_background": "light"
     },
     "output_type": "display_data"
    }
   ],
   "source": [
    "plt.hist(airline_df[\"Age\"],color=\"orange\")\n",
    "plt.xlabel(\"Age\")\n",
    "plt.ylabel(\"Frequency\")\n",
    "plt.show()"
   ]
  },
  {
   "cell_type": "markdown",
   "metadata": {},
   "source": [
    "#### Arrival_Delay_in_Minutes:"
   ]
  },
  {
   "cell_type": "code",
   "execution_count": 130,
   "metadata": {},
   "outputs": [
    {
     "data": {
      "image/png": "[encoded data removed]",
      "text/plain": [
       "<Figure size 432x288 with 1 Axes>"
      ]
     },
     "metadata": {
      "needs_background": "light"
     },
     "output_type": "display_data"
    }
   ],
   "source": [
    "plt.hist(airline_df[\"Arrival_Delay_in_Minutes\"],color=\"purple\")\n",
    "plt.xlabel(\"Arrival_Delay_in_Minutes\")\n",
    "plt.ylabel(\"Frequency\")\n",
    "plt.show()"
   ]
  },
  {
   "cell_type": "markdown",
   "metadata": {},
   "source": [
    "#### Departure_Delay_in_Minutes:"
   ]
  },
  {
   "cell_type": "code",
   "execution_count": 131,
   "metadata": {},
   "outputs": [
    {
     "data": {
      "image/png": "[encoded data removed]",
      "text/plain": [
       "<Figure size 432x288 with 1 Axes>"
      ]
     },
     "metadata": {
      "needs_background": "light"
     },
     "output_type": "display_data"
    }
   ],
   "source": [
    "plt.hist(airline_df[\"Departure_Delay_in_Minutes\"],color=\"#0504aa\")\n",
    "plt.xlabel(\"Departure_Delay_in_Minutes\")\n",
    "plt.ylabel(\"Frequency\")\n",
    "plt.show()"
   ]
  },
  {
   "cell_type": "markdown",
   "metadata": {},
   "source": [
    "#### Flight_Distance:"
   ]
  },
  {
   "cell_type": "code",
   "execution_count": 132,
   "metadata": {},
   "outputs": [
    {
     "data": {
      "image/png": "[encoded data removed]",
      "text/plain": [
       "<Figure size 432x288 with 1 Axes>"
      ]
     },
     "metadata": {
      "needs_background": "light"
     },
     "output_type": "display_data"
    }
   ],
   "source": [
    "plt.hist(airline_df[\"Flight_Distance\"],color=\"slateblue\")\n",
    "plt.xlabel(\"Flight_Distance\")\n",
    "plt.ylabel(\"Frequency\")\n",
    "plt.show()"
   ]
  },
  {
   "cell_type": "markdown",
   "metadata": {},
   "source": [
    "#### Pairwise Relationship"
   ]
  },
  {
   "cell_type": "code",
   "execution_count": 133,
   "metadata": {},
   "outputs": [
    {
     "data": {
      "text/html": [
       "<div>\n",
       "<style scoped>\n",
       "    .dataframe tbody tr th:only-of-type {\n",
       "        vertical-align: middle;\n",
       "    }\n",
       "\n",
       "    .dataframe tbody tr th {\n",
       "        vertical-align: top;\n",
       "    }\n",
       "\n",
       "    .dataframe thead th {\n",
       "        text-align: right;\n",
       "    }\n",
       "</style>\n",
       "<table border=\"1\" class=\"dataframe\">\n",
       "  <thead>\n",
       "    <tr style=\"text-align: right;\">\n",
       "      <th></th>\n",
       "      <th>id</th>\n",
       "      <th>Age</th>\n",
       "      <th>Flight_Distance</th>\n",
       "      <th>Inflight_wifi_service</th>\n",
       "      <th>Departure/Arrival_time_convenient</th>\n",
       "      <th>Ease_of_Online_booking</th>\n",
       "      <th>Gate_location</th>\n",
       "      <th>Food_and_drink</th>\n",
       "      <th>Online_boarding</th>\n",
       "      <th>Seat_comfort</th>\n",
       "      <th>Inflight_entertainment</th>\n",
       "      <th>On-board_service</th>\n",
       "      <th>Leg_room_service</th>\n",
       "      <th>Baggage_handling</th>\n",
       "      <th>Checkin_service</th>\n",
       "      <th>Inflight_service</th>\n",
       "      <th>Cleanliness</th>\n",
       "      <th>Departure_Delay_in_Minutes</th>\n",
       "      <th>Arrival_Delay_in_Minutes</th>\n",
       "    </tr>\n",
       "  </thead>\n",
       "  <tbody>\n",
       "    <tr>\n",
       "      <th>id</th>\n",
       "      <td>NaN</td>\n",
       "      <td>NaN</td>\n",
       "      <td>NaN</td>\n",
       "      <td>NaN</td>\n",
       "      <td>NaN</td>\n",
       "      <td>NaN</td>\n",
       "      <td>NaN</td>\n",
       "      <td>NaN</td>\n",
       "      <td>NaN</td>\n",
       "      <td>NaN</td>\n",
       "      <td>NaN</td>\n",
       "      <td>NaN</td>\n",
       "      <td>NaN</td>\n",
       "      <td>NaN</td>\n",
       "      <td>NaN</td>\n",
       "      <td>NaN</td>\n",
       "      <td>NaN</td>\n",
       "      <td>NaN</td>\n",
       "      <td>NaN</td>\n",
       "    </tr>\n",
       "    <tr>\n",
       "      <th>Age</th>\n",
       "      <td>NaN</td>\n",
       "      <td>NaN</td>\n",
       "      <td>NaN</td>\n",
       "      <td>NaN</td>\n",
       "      <td>NaN</td>\n",
       "      <td>NaN</td>\n",
       "      <td>NaN</td>\n",
       "      <td>NaN</td>\n",
       "      <td>NaN</td>\n",
       "      <td>NaN</td>\n",
       "      <td>NaN</td>\n",
       "      <td>NaN</td>\n",
       "      <td>NaN</td>\n",
       "      <td>NaN</td>\n",
       "      <td>NaN</td>\n",
       "      <td>NaN</td>\n",
       "      <td>NaN</td>\n",
       "      <td>NaN</td>\n",
       "      <td>NaN</td>\n",
       "    </tr>\n",
       "    <tr>\n",
       "      <th>Flight_Distance</th>\n",
       "      <td>NaN</td>\n",
       "      <td>NaN</td>\n",
       "      <td>NaN</td>\n",
       "      <td>NaN</td>\n",
       "      <td>NaN</td>\n",
       "      <td>NaN</td>\n",
       "      <td>NaN</td>\n",
       "      <td>NaN</td>\n",
       "      <td>NaN</td>\n",
       "      <td>NaN</td>\n",
       "      <td>NaN</td>\n",
       "      <td>NaN</td>\n",
       "      <td>NaN</td>\n",
       "      <td>NaN</td>\n",
       "      <td>NaN</td>\n",
       "      <td>NaN</td>\n",
       "      <td>NaN</td>\n",
       "      <td>NaN</td>\n",
       "      <td>NaN</td>\n",
       "    </tr>\n",
       "    <tr>\n",
       "      <th>Inflight_wifi_service</th>\n",
       "      <td>NaN</td>\n",
       "      <td>NaN</td>\n",
       "      <td>NaN</td>\n",
       "      <td>NaN</td>\n",
       "      <td>NaN</td>\n",
       "      <td>0.72757</td>\n",
       "      <td>NaN</td>\n",
       "      <td>NaN</td>\n",
       "      <td>NaN</td>\n",
       "      <td>NaN</td>\n",
       "      <td>NaN</td>\n",
       "      <td>NaN</td>\n",
       "      <td>NaN</td>\n",
       "      <td>NaN</td>\n",
       "      <td>NaN</td>\n",
       "      <td>NaN</td>\n",
       "      <td>NaN</td>\n",
       "      <td>NaN</td>\n",
       "      <td>NaN</td>\n",
       "    </tr>\n",
       "    <tr>\n",
       "      <th>Departure/Arrival_time_convenient</th>\n",
       "      <td>NaN</td>\n",
       "      <td>NaN</td>\n",
       "      <td>NaN</td>\n",
       "      <td>NaN</td>\n",
       "      <td>NaN</td>\n",
       "      <td>NaN</td>\n",
       "      <td>NaN</td>\n",
       "      <td>NaN</td>\n",
       "      <td>NaN</td>\n",
       "      <td>NaN</td>\n",
       "      <td>NaN</td>\n",
       "      <td>NaN</td>\n",
       "      <td>NaN</td>\n",
       "      <td>NaN</td>\n",
       "      <td>NaN</td>\n",
       "      <td>NaN</td>\n",
       "      <td>NaN</td>\n",
       "      <td>NaN</td>\n",
       "      <td>NaN</td>\n",
       "    </tr>\n",
       "    <tr>\n",
       "      <th>Ease_of_Online_booking</th>\n",
       "      <td>NaN</td>\n",
       "      <td>NaN</td>\n",
       "      <td>NaN</td>\n",
       "      <td>0.72757</td>\n",
       "      <td>NaN</td>\n",
       "      <td>NaN</td>\n",
       "      <td>NaN</td>\n",
       "      <td>NaN</td>\n",
       "      <td>NaN</td>\n",
       "      <td>NaN</td>\n",
       "      <td>NaN</td>\n",
       "      <td>NaN</td>\n",
       "      <td>NaN</td>\n",
       "      <td>NaN</td>\n",
       "      <td>NaN</td>\n",
       "      <td>NaN</td>\n",
       "      <td>NaN</td>\n",
       "      <td>NaN</td>\n",
       "      <td>NaN</td>\n",
       "    </tr>\n",
       "    <tr>\n",
       "      <th>Gate_location</th>\n",
       "      <td>NaN</td>\n",
       "      <td>NaN</td>\n",
       "      <td>NaN</td>\n",
       "      <td>NaN</td>\n",
       "      <td>NaN</td>\n",
       "      <td>NaN</td>\n",
       "      <td>NaN</td>\n",
       "      <td>NaN</td>\n",
       "      <td>NaN</td>\n",
       "      <td>NaN</td>\n",
       "      <td>NaN</td>\n",
       "      <td>NaN</td>\n",
       "      <td>NaN</td>\n",
       "      <td>NaN</td>\n",
       "      <td>NaN</td>\n",
       "      <td>NaN</td>\n",
       "      <td>NaN</td>\n",
       "      <td>NaN</td>\n",
       "      <td>NaN</td>\n",
       "    </tr>\n",
       "    <tr>\n",
       "      <th>Food_and_drink</th>\n",
       "      <td>NaN</td>\n",
       "      <td>NaN</td>\n",
       "      <td>NaN</td>\n",
       "      <td>NaN</td>\n",
       "      <td>NaN</td>\n",
       "      <td>NaN</td>\n",
       "      <td>NaN</td>\n",
       "      <td>NaN</td>\n",
       "      <td>NaN</td>\n",
       "      <td>0.587397</td>\n",
       "      <td>0.646644</td>\n",
       "      <td>NaN</td>\n",
       "      <td>NaN</td>\n",
       "      <td>NaN</td>\n",
       "      <td>NaN</td>\n",
       "      <td>NaN</td>\n",
       "      <td>0.676507</td>\n",
       "      <td>NaN</td>\n",
       "      <td>NaN</td>\n",
       "    </tr>\n",
       "    <tr>\n",
       "      <th>Online_boarding</th>\n",
       "      <td>NaN</td>\n",
       "      <td>NaN</td>\n",
       "      <td>NaN</td>\n",
       "      <td>NaN</td>\n",
       "      <td>NaN</td>\n",
       "      <td>NaN</td>\n",
       "      <td>NaN</td>\n",
       "      <td>NaN</td>\n",
       "      <td>NaN</td>\n",
       "      <td>NaN</td>\n",
       "      <td>NaN</td>\n",
       "      <td>NaN</td>\n",
       "      <td>NaN</td>\n",
       "      <td>NaN</td>\n",
       "      <td>NaN</td>\n",
       "      <td>NaN</td>\n",
       "      <td>NaN</td>\n",
       "      <td>NaN</td>\n",
       "      <td>NaN</td>\n",
       "    </tr>\n",
       "    <tr>\n",
       "      <th>Seat_comfort</th>\n",
       "      <td>NaN</td>\n",
       "      <td>NaN</td>\n",
       "      <td>NaN</td>\n",
       "      <td>NaN</td>\n",
       "      <td>NaN</td>\n",
       "      <td>NaN</td>\n",
       "      <td>NaN</td>\n",
       "      <td>0.587397</td>\n",
       "      <td>NaN</td>\n",
       "      <td>NaN</td>\n",
       "      <td>0.630929</td>\n",
       "      <td>NaN</td>\n",
       "      <td>NaN</td>\n",
       "      <td>NaN</td>\n",
       "      <td>NaN</td>\n",
       "      <td>NaN</td>\n",
       "      <td>0.679690</td>\n",
       "      <td>NaN</td>\n",
       "      <td>NaN</td>\n",
       "    </tr>\n",
       "    <tr>\n",
       "      <th>Inflight_entertainment</th>\n",
       "      <td>NaN</td>\n",
       "      <td>NaN</td>\n",
       "      <td>NaN</td>\n",
       "      <td>NaN</td>\n",
       "      <td>NaN</td>\n",
       "      <td>NaN</td>\n",
       "      <td>NaN</td>\n",
       "      <td>0.646644</td>\n",
       "      <td>NaN</td>\n",
       "      <td>0.630929</td>\n",
       "      <td>NaN</td>\n",
       "      <td>NaN</td>\n",
       "      <td>NaN</td>\n",
       "      <td>NaN</td>\n",
       "      <td>NaN</td>\n",
       "      <td>NaN</td>\n",
       "      <td>0.717501</td>\n",
       "      <td>NaN</td>\n",
       "      <td>NaN</td>\n",
       "    </tr>\n",
       "    <tr>\n",
       "      <th>On-board_service</th>\n",
       "      <td>NaN</td>\n",
       "      <td>NaN</td>\n",
       "      <td>NaN</td>\n",
       "      <td>NaN</td>\n",
       "      <td>NaN</td>\n",
       "      <td>NaN</td>\n",
       "      <td>NaN</td>\n",
       "      <td>NaN</td>\n",
       "      <td>NaN</td>\n",
       "      <td>NaN</td>\n",
       "      <td>NaN</td>\n",
       "      <td>NaN</td>\n",
       "      <td>NaN</td>\n",
       "      <td>0.525423</td>\n",
       "      <td>NaN</td>\n",
       "      <td>0.557766</td>\n",
       "      <td>NaN</td>\n",
       "      <td>NaN</td>\n",
       "      <td>NaN</td>\n",
       "    </tr>\n",
       "    <tr>\n",
       "      <th>Leg_room_service</th>\n",
       "      <td>NaN</td>\n",
       "      <td>NaN</td>\n",
       "      <td>NaN</td>\n",
       "      <td>NaN</td>\n",
       "      <td>NaN</td>\n",
       "      <td>NaN</td>\n",
       "      <td>NaN</td>\n",
       "      <td>NaN</td>\n",
       "      <td>NaN</td>\n",
       "      <td>NaN</td>\n",
       "      <td>NaN</td>\n",
       "      <td>NaN</td>\n",
       "      <td>NaN</td>\n",
       "      <td>NaN</td>\n",
       "      <td>NaN</td>\n",
       "      <td>NaN</td>\n",
       "      <td>NaN</td>\n",
       "      <td>NaN</td>\n",
       "      <td>NaN</td>\n",
       "    </tr>\n",
       "    <tr>\n",
       "      <th>Baggage_handling</th>\n",
       "      <td>NaN</td>\n",
       "      <td>NaN</td>\n",
       "      <td>NaN</td>\n",
       "      <td>NaN</td>\n",
       "      <td>NaN</td>\n",
       "      <td>NaN</td>\n",
       "      <td>NaN</td>\n",
       "      <td>NaN</td>\n",
       "      <td>NaN</td>\n",
       "      <td>NaN</td>\n",
       "      <td>NaN</td>\n",
       "      <td>0.525423</td>\n",
       "      <td>NaN</td>\n",
       "      <td>NaN</td>\n",
       "      <td>NaN</td>\n",
       "      <td>0.636023</td>\n",
       "      <td>NaN</td>\n",
       "      <td>NaN</td>\n",
       "      <td>NaN</td>\n",
       "    </tr>\n",
       "    <tr>\n",
       "      <th>Checkin_service</th>\n",
       "      <td>NaN</td>\n",
       "      <td>NaN</td>\n",
       "      <td>NaN</td>\n",
       "      <td>NaN</td>\n",
       "      <td>NaN</td>\n",
       "      <td>NaN</td>\n",
       "      <td>NaN</td>\n",
       "      <td>NaN</td>\n",
       "      <td>NaN</td>\n",
       "      <td>NaN</td>\n",
       "      <td>NaN</td>\n",
       "      <td>NaN</td>\n",
       "      <td>NaN</td>\n",
       "      <td>NaN</td>\n",
       "      <td>NaN</td>\n",
       "      <td>NaN</td>\n",
       "      <td>NaN</td>\n",
       "      <td>NaN</td>\n",
       "      <td>NaN</td>\n",
       "    </tr>\n",
       "    <tr>\n",
       "      <th>Inflight_service</th>\n",
       "      <td>NaN</td>\n",
       "      <td>NaN</td>\n",
       "      <td>NaN</td>\n",
       "      <td>NaN</td>\n",
       "      <td>NaN</td>\n",
       "      <td>NaN</td>\n",
       "      <td>NaN</td>\n",
       "      <td>NaN</td>\n",
       "      <td>NaN</td>\n",
       "      <td>NaN</td>\n",
       "      <td>NaN</td>\n",
       "      <td>0.557766</td>\n",
       "      <td>NaN</td>\n",
       "      <td>0.636023</td>\n",
       "      <td>NaN</td>\n",
       "      <td>NaN</td>\n",
       "      <td>NaN</td>\n",
       "      <td>NaN</td>\n",
       "      <td>NaN</td>\n",
       "    </tr>\n",
       "    <tr>\n",
       "      <th>Cleanliness</th>\n",
       "      <td>NaN</td>\n",
       "      <td>NaN</td>\n",
       "      <td>NaN</td>\n",
       "      <td>NaN</td>\n",
       "      <td>NaN</td>\n",
       "      <td>NaN</td>\n",
       "      <td>NaN</td>\n",
       "      <td>0.676507</td>\n",
       "      <td>NaN</td>\n",
       "      <td>0.679690</td>\n",
       "      <td>0.717501</td>\n",
       "      <td>NaN</td>\n",
       "      <td>NaN</td>\n",
       "      <td>NaN</td>\n",
       "      <td>NaN</td>\n",
       "      <td>NaN</td>\n",
       "      <td>NaN</td>\n",
       "      <td>NaN</td>\n",
       "      <td>NaN</td>\n",
       "    </tr>\n",
       "    <tr>\n",
       "      <th>Departure_Delay_in_Minutes</th>\n",
       "      <td>NaN</td>\n",
       "      <td>NaN</td>\n",
       "      <td>NaN</td>\n",
       "      <td>NaN</td>\n",
       "      <td>NaN</td>\n",
       "      <td>NaN</td>\n",
       "      <td>NaN</td>\n",
       "      <td>NaN</td>\n",
       "      <td>NaN</td>\n",
       "      <td>NaN</td>\n",
       "      <td>NaN</td>\n",
       "      <td>NaN</td>\n",
       "      <td>NaN</td>\n",
       "      <td>NaN</td>\n",
       "      <td>NaN</td>\n",
       "      <td>NaN</td>\n",
       "      <td>NaN</td>\n",
       "      <td>NaN</td>\n",
       "      <td>0.753198</td>\n",
       "    </tr>\n",
       "    <tr>\n",
       "      <th>Arrival_Delay_in_Minutes</th>\n",
       "      <td>NaN</td>\n",
       "      <td>NaN</td>\n",
       "      <td>NaN</td>\n",
       "      <td>NaN</td>\n",
       "      <td>NaN</td>\n",
       "      <td>NaN</td>\n",
       "      <td>NaN</td>\n",
       "      <td>NaN</td>\n",
       "      <td>NaN</td>\n",
       "      <td>NaN</td>\n",
       "      <td>NaN</td>\n",
       "      <td>NaN</td>\n",
       "      <td>NaN</td>\n",
       "      <td>NaN</td>\n",
       "      <td>NaN</td>\n",
       "      <td>NaN</td>\n",
       "      <td>NaN</td>\n",
       "      <td>0.753198</td>\n",
       "      <td>NaN</td>\n",
       "    </tr>\n",
       "  </tbody>\n",
       "</table>\n",
       "</div>"
      ],
      "text/plain": [
       "                                   id  Age  Flight_Distance  \\\n",
       "id                                NaN  NaN              NaN   \n",
       "Age                               NaN  NaN              NaN   \n",
       "Flight_Distance                   NaN  NaN              NaN   \n",
       "Inflight_wifi_service             NaN  NaN              NaN   \n",
       "Departure/Arrival_time_convenient NaN  NaN              NaN   \n",
       "Ease_of_Online_booking            NaN  NaN              NaN   \n",
       "Gate_location                     NaN  NaN              NaN   \n",
       "Food_and_drink                    NaN  NaN              NaN   \n",
       "Online_boarding                   NaN  NaN              NaN   \n",
       "Seat_comfort                      NaN  NaN              NaN   \n",
       "Inflight_entertainment            NaN  NaN              NaN   \n",
       "On-board_service                  NaN  NaN              NaN   \n",
       "Leg_room_service                  NaN  NaN              NaN   \n",
       "Baggage_handling                  NaN  NaN              NaN   \n",
       "Checkin_service                   NaN  NaN              NaN   \n",
       "Inflight_service                  NaN  NaN              NaN   \n",
       "Cleanliness                       NaN  NaN              NaN   \n",
       "Departure_Delay_in_Minutes        NaN  NaN              NaN   \n",
       "Arrival_Delay_in_Minutes          NaN  NaN              NaN   \n",
       "\n",
       "                                   Inflight_wifi_service  \\\n",
       "id                                                   NaN   \n",
       "Age                                                  NaN   \n",
       "Flight_Distance                                      NaN   \n",
       "Inflight_wifi_service                                NaN   \n",
       "Departure/Arrival_time_convenient                    NaN   \n",
       "Ease_of_Online_booking                           0.72757   \n",
       "Gate_location                                        NaN   \n",
       "Food_and_drink                                       NaN   \n",
       "Online_boarding                                      NaN   \n",
       "Seat_comfort                                         NaN   \n",
       "Inflight_entertainment                               NaN   \n",
       "On-board_service                                     NaN   \n",
       "Leg_room_service                                     NaN   \n",
       "Baggage_handling                                     NaN   \n",
       "Checkin_service                                      NaN   \n",
       "Inflight_service                                     NaN   \n",
       "Cleanliness                                          NaN   \n",
       "Departure_Delay_in_Minutes                           NaN   \n",
       "Arrival_Delay_in_Minutes                             NaN   \n",
       "\n",
       "                                   Departure/Arrival_time_convenient  \\\n",
       "id                                                               NaN   \n",
       "Age                                                              NaN   \n",
       "Flight_Distance                                                  NaN   \n",
       "Inflight_wifi_service                                            NaN   \n",
       "Departure/Arrival_time_convenient                                NaN   \n",
       "Ease_of_Online_booking                                           NaN   \n",
       "Gate_location                                                    NaN   \n",
       "Food_and_drink                                                   NaN   \n",
       "Online_boarding                                                  NaN   \n",
       "Seat_comfort                                                     NaN   \n",
       "Inflight_entertainment                                           NaN   \n",
       "On-board_service                                                 NaN   \n",
       "Leg_room_service                                                 NaN   \n",
       "Baggage_handling                                                 NaN   \n",
       "Checkin_service                                                  NaN   \n",
       "Inflight_service                                                 NaN   \n",
       "Cleanliness                                                      NaN   \n",
       "Departure_Delay_in_Minutes                                       NaN   \n",
       "Arrival_Delay_in_Minutes                                         NaN   \n",
       "\n",
       "                                   Ease_of_Online_booking  Gate_location  \\\n",
       "id                                                    NaN            NaN   \n",
       "Age                                                   NaN            NaN   \n",
       "Flight_Distance                                       NaN            NaN   \n",
       "Inflight_wifi_service                             0.72757            NaN   \n",
       "Departure/Arrival_time_convenient                     NaN            NaN   \n",
       "Ease_of_Online_booking                                NaN            NaN   \n",
       "Gate_location                                         NaN            NaN   \n",
       "Food_and_drink                                        NaN            NaN   \n",
       "Online_boarding                                       NaN            NaN   \n",
       "Seat_comfort                                          NaN            NaN   \n",
       "Inflight_entertainment                                NaN            NaN   \n",
       "On-board_service                                      NaN            NaN   \n",
       "Leg_room_service                                      NaN            NaN   \n",
       "Baggage_handling                                      NaN            NaN   \n",
       "Checkin_service                                       NaN            NaN   \n",
       "Inflight_service                                      NaN            NaN   \n",
       "Cleanliness                                           NaN            NaN   \n",
       "Departure_Delay_in_Minutes                            NaN            NaN   \n",
       "Arrival_Delay_in_Minutes                              NaN            NaN   \n",
       "\n",
       "                                   Food_and_drink  Online_boarding  \\\n",
       "id                                            NaN              NaN   \n",
       "Age                                           NaN              NaN   \n",
       "Flight_Distance                               NaN              NaN   \n",
       "Inflight_wifi_service                         NaN              NaN   \n",
       "Departure/Arrival_time_convenient             NaN              NaN   \n",
       "Ease_of_Online_booking                        NaN              NaN   \n",
       "Gate_location                                 NaN              NaN   \n",
       "Food_and_drink                                NaN              NaN   \n",
       "Online_boarding                               NaN              NaN   \n",
       "Seat_comfort                             0.587397              NaN   \n",
       "Inflight_entertainment                   0.646644              NaN   \n",
       "On-board_service                              NaN              NaN   \n",
       "Leg_room_service                              NaN              NaN   \n",
       "Baggage_handling                              NaN              NaN   \n",
       "Checkin_service                               NaN              NaN   \n",
       "Inflight_service                              NaN              NaN   \n",
       "Cleanliness                              0.676507              NaN   \n",
       "Departure_Delay_in_Minutes                    NaN              NaN   \n",
       "Arrival_Delay_in_Minutes                      NaN              NaN   \n",
       "\n",
       "                                   Seat_comfort  Inflight_entertainment  \\\n",
       "id                                          NaN                     NaN   \n",
       "Age                                         NaN                     NaN   \n",
       "Flight_Distance                             NaN                     NaN   \n",
       "Inflight_wifi_service                       NaN                     NaN   \n",
       "Departure/Arrival_time_convenient           NaN                     NaN   \n",
       "Ease_of_Online_booking                      NaN                     NaN   \n",
       "Gate_location                               NaN                     NaN   \n",
       "Food_and_drink                         0.587397                0.646644   \n",
       "Online_boarding                             NaN                     NaN   \n",
       "Seat_comfort                                NaN                0.630929   \n",
       "Inflight_entertainment                 0.630929                     NaN   \n",
       "On-board_service                            NaN                     NaN   \n",
       "Leg_room_service                            NaN                     NaN   \n",
       "Baggage_handling                            NaN                     NaN   \n",
       "Checkin_service                             NaN                     NaN   \n",
       "Inflight_service                            NaN                     NaN   \n",
       "Cleanliness                            0.679690                0.717501   \n",
       "Departure_Delay_in_Minutes                  NaN                     NaN   \n",
       "Arrival_Delay_in_Minutes                    NaN                     NaN   \n",
       "\n",
       "                                   On-board_service  Leg_room_service  \\\n",
       "id                                              NaN               NaN   \n",
       "Age                                             NaN               NaN   \n",
       "Flight_Distance                                 NaN               NaN   \n",
       "Inflight_wifi_service                           NaN               NaN   \n",
       "Departure/Arrival_time_convenient               NaN               NaN   \n",
       "Ease_of_Online_booking                          NaN               NaN   \n",
       "Gate_location                                   NaN               NaN   \n",
       "Food_and_drink                                  NaN               NaN   \n",
       "Online_boarding                                 NaN               NaN   \n",
       "Seat_comfort                                    NaN               NaN   \n",
       "Inflight_entertainment                          NaN               NaN   \n",
       "On-board_service                                NaN               NaN   \n",
       "Leg_room_service                                NaN               NaN   \n",
       "Baggage_handling                           0.525423               NaN   \n",
       "Checkin_service                                 NaN               NaN   \n",
       "Inflight_service                           0.557766               NaN   \n",
       "Cleanliness                                     NaN               NaN   \n",
       "Departure_Delay_in_Minutes                      NaN               NaN   \n",
       "Arrival_Delay_in_Minutes                        NaN               NaN   \n",
       "\n",
       "                                   Baggage_handling  Checkin_service  \\\n",
       "id                                              NaN              NaN   \n",
       "Age                                             NaN              NaN   \n",
       "Flight_Distance                                 NaN              NaN   \n",
       "Inflight_wifi_service                           NaN              NaN   \n",
       "Departure/Arrival_time_convenient               NaN              NaN   \n",
       "Ease_of_Online_booking                          NaN              NaN   \n",
       "Gate_location                                   NaN              NaN   \n",
       "Food_and_drink                                  NaN              NaN   \n",
       "Online_boarding                                 NaN              NaN   \n",
       "Seat_comfort                                    NaN              NaN   \n",
       "Inflight_entertainment                          NaN              NaN   \n",
       "On-board_service                           0.525423              NaN   \n",
       "Leg_room_service                                NaN              NaN   \n",
       "Baggage_handling                                NaN              NaN   \n",
       "Checkin_service                                 NaN              NaN   \n",
       "Inflight_service                           0.636023              NaN   \n",
       "Cleanliness                                     NaN              NaN   \n",
       "Departure_Delay_in_Minutes                      NaN              NaN   \n",
       "Arrival_Delay_in_Minutes                        NaN              NaN   \n",
       "\n",
       "                                   Inflight_service  Cleanliness  \\\n",
       "id                                              NaN          NaN   \n",
       "Age                                             NaN          NaN   \n",
       "Flight_Distance                                 NaN          NaN   \n",
       "Inflight_wifi_service                           NaN          NaN   \n",
       "Departure/Arrival_time_convenient               NaN          NaN   \n",
       "Ease_of_Online_booking                          NaN          NaN   \n",
       "Gate_location                                   NaN          NaN   \n",
       "Food_and_drink                                  NaN     0.676507   \n",
       "Online_boarding                                 NaN          NaN   \n",
       "Seat_comfort                                    NaN     0.679690   \n",
       "Inflight_entertainment                          NaN     0.717501   \n",
       "On-board_service                           0.557766          NaN   \n",
       "Leg_room_service                                NaN          NaN   \n",
       "Baggage_handling                           0.636023          NaN   \n",
       "Checkin_service                                 NaN          NaN   \n",
       "Inflight_service                                NaN          NaN   \n",
       "Cleanliness                                     NaN          NaN   \n",
       "Departure_Delay_in_Minutes                      NaN          NaN   \n",
       "Arrival_Delay_in_Minutes                        NaN          NaN   \n",
       "\n",
       "                                   Departure_Delay_in_Minutes  \\\n",
       "id                                                        NaN   \n",
       "Age                                                       NaN   \n",
       "Flight_Distance                                           NaN   \n",
       "Inflight_wifi_service                                     NaN   \n",
       "Departure/Arrival_time_convenient                         NaN   \n",
       "Ease_of_Online_booking                                    NaN   \n",
       "Gate_location                                             NaN   \n",
       "Food_and_drink                                            NaN   \n",
       "Online_boarding                                           NaN   \n",
       "Seat_comfort                                              NaN   \n",
       "Inflight_entertainment                                    NaN   \n",
       "On-board_service                                          NaN   \n",
       "Leg_room_service                                          NaN   \n",
       "Baggage_handling                                          NaN   \n",
       "Checkin_service                                           NaN   \n",
       "Inflight_service                                          NaN   \n",
       "Cleanliness                                               NaN   \n",
       "Departure_Delay_in_Minutes                                NaN   \n",
       "Arrival_Delay_in_Minutes                             0.753198   \n",
       "\n",
       "                                   Arrival_Delay_in_Minutes  \n",
       "id                                                      NaN  \n",
       "Age                                                     NaN  \n",
       "Flight_Distance                                         NaN  \n",
       "Inflight_wifi_service                                   NaN  \n",
       "Departure/Arrival_time_convenient                       NaN  \n",
       "Ease_of_Online_booking                                  NaN  \n",
       "Gate_location                                           NaN  \n",
       "Food_and_drink                                          NaN  \n",
       "Online_boarding                                         NaN  \n",
       "Seat_comfort                                            NaN  \n",
       "Inflight_entertainment                                  NaN  \n",
       "On-board_service                                        NaN  \n",
       "Leg_room_service                                        NaN  \n",
       "Baggage_handling                                        NaN  \n",
       "Checkin_service                                         NaN  \n",
       "Inflight_service                                        NaN  \n",
       "Cleanliness                                             NaN  \n",
       "Departure_Delay_in_Minutes                         0.753198  \n",
       "Arrival_Delay_in_Minutes                                NaN  "
      ]
     },
     "execution_count": 133,
     "metadata": {},
     "output_type": "execute_result"
    }
   ],
   "source": [
    "corr_table = airline_df.corr()\n",
    "corr_table = corr_table[corr_table > 0.5]\n",
    "corr_table = corr_table[corr_table < 1.0]\n",
    "corr_table"
   ]
  },
  {
   "cell_type": "code",
   "execution_count": 134,
   "metadata": {},
   "outputs": [
    {
     "data": {
      "text/plain": [
       "<matplotlib.axes._subplots.AxesSubplot at 0x7fed30b75be0>"
      ]
     },
     "execution_count": 134,
     "metadata": {},
     "output_type": "execute_result"
    },
    {
     "data": {
      "image/png": "[encoded data removed]",
      "text/plain": [
       "<Figure size 432x288 with 2 Axes>"
      ]
     },
     "metadata": {
      "needs_background": "light"
     },
     "output_type": "display_data"
    }
   ],
   "source": [
    "sns.heatmap(airline_df.corr(), cmap=\"Oranges\")"
   ]
  },
  {
   "cell_type": "markdown",
   "metadata": {},
   "source": [
    "- Noticed that, there are columns that are correlated, we should by careful when doing feature selection and other steps."
   ]
  },
  {
   "cell_type": "markdown",
   "metadata": {},
   "source": [
    "We could create more visualizations for each feature or pairwise relationships in the dataset, but I will stop here and move on to our classification models for the purpose of this project,"
   ]
  },
  {
   "cell_type": "markdown",
   "metadata": {},
   "source": [
    "## III. Classification Models:"
   ]
  },
  {
   "cell_type": "markdown",
   "metadata": {},
   "source": [
    "#### Naive Benchmark:"
   ]
  },
  {
   "cell_type": "markdown",
   "metadata": {},
   "source": [
    "Notice that even when we predict every instances as one of the class, we could still get an accuracy of 0.5. This could be something that we need to consider when evaluate the accuracy on the testing set."
   ]
  },
  {
   "cell_type": "code",
   "execution_count": 135,
   "metadata": {},
   "outputs": [],
   "source": [
    "airline_df[\"satisfaction\"] = airline_df[\"satisfaction\"].replace([\"neutral or dissatisfied\", \"satisfied\"],[0,1])"
   ]
  },
  {
   "cell_type": "code",
   "execution_count": 136,
   "metadata": {},
   "outputs": [],
   "source": [
    "X = airline_df.drop([\"id\", \"satisfaction\"],axis=1)\n",
    "y = airline_df[\"satisfaction\"]"
   ]
  },
  {
   "cell_type": "code",
   "execution_count": 137,
   "metadata": {},
   "outputs": [],
   "source": [
    "X = pd.get_dummies(X, drop_first=True)"
   ]
  },
  {
   "cell_type": "code",
   "execution_count": 138,
   "metadata": {},
   "outputs": [
    {
     "data": {
      "text/plain": [
       "23"
      ]
     },
     "execution_count": 138,
     "metadata": {},
     "output_type": "execute_result"
    }
   ],
   "source": [
    "X.shape[1]"
   ]
  },
  {
   "cell_type": "code",
   "execution_count": 139,
   "metadata": {},
   "outputs": [],
   "source": [
    "X_columns = X.columns"
   ]
  },
  {
   "cell_type": "code",
   "execution_count": 140,
   "metadata": {},
   "outputs": [
    {
     "data": {
      "text/html": [
       "<div>\n",
       "<style scoped>\n",
       "    .dataframe tbody tr th:only-of-type {\n",
       "        vertical-align: middle;\n",
       "    }\n",
       "\n",
       "    .dataframe tbody tr th {\n",
       "        vertical-align: top;\n",
       "    }\n",
       "\n",
       "    .dataframe thead th {\n",
       "        text-align: right;\n",
       "    }\n",
       "</style>\n",
       "<table border=\"1\" class=\"dataframe\">\n",
       "  <thead>\n",
       "    <tr style=\"text-align: right;\">\n",
       "      <th></th>\n",
       "      <th>Age</th>\n",
       "      <th>Flight_Distance</th>\n",
       "      <th>Inflight_wifi_service</th>\n",
       "      <th>Departure/Arrival_time_convenient</th>\n",
       "      <th>Ease_of_Online_booking</th>\n",
       "      <th>Gate_location</th>\n",
       "      <th>Food_and_drink</th>\n",
       "      <th>Online_boarding</th>\n",
       "      <th>Seat_comfort</th>\n",
       "      <th>Inflight_entertainment</th>\n",
       "      <th>...</th>\n",
       "      <th>Checkin_service</th>\n",
       "      <th>Inflight_service</th>\n",
       "      <th>Cleanliness</th>\n",
       "      <th>Departure_Delay_in_Minutes</th>\n",
       "      <th>Arrival_Delay_in_Minutes</th>\n",
       "      <th>Gender_Male</th>\n",
       "      <th>Customer_Type_disloyal Customer</th>\n",
       "      <th>Type_of_Travel_Personal Travel</th>\n",
       "      <th>Class_Eco</th>\n",
       "      <th>Class_Eco Plus</th>\n",
       "    </tr>\n",
       "  </thead>\n",
       "  <tbody>\n",
       "    <tr>\n",
       "      <th>0</th>\n",
       "      <td>13</td>\n",
       "      <td>460</td>\n",
       "      <td>3</td>\n",
       "      <td>4</td>\n",
       "      <td>3</td>\n",
       "      <td>1</td>\n",
       "      <td>5</td>\n",
       "      <td>3</td>\n",
       "      <td>5</td>\n",
       "      <td>5</td>\n",
       "      <td>...</td>\n",
       "      <td>4</td>\n",
       "      <td>5</td>\n",
       "      <td>5</td>\n",
       "      <td>25</td>\n",
       "      <td>18.0</td>\n",
       "      <td>1</td>\n",
       "      <td>0</td>\n",
       "      <td>1</td>\n",
       "      <td>0</td>\n",
       "      <td>1</td>\n",
       "    </tr>\n",
       "    <tr>\n",
       "      <th>1</th>\n",
       "      <td>25</td>\n",
       "      <td>235</td>\n",
       "      <td>3</td>\n",
       "      <td>2</td>\n",
       "      <td>3</td>\n",
       "      <td>3</td>\n",
       "      <td>1</td>\n",
       "      <td>3</td>\n",
       "      <td>1</td>\n",
       "      <td>1</td>\n",
       "      <td>...</td>\n",
       "      <td>1</td>\n",
       "      <td>4</td>\n",
       "      <td>1</td>\n",
       "      <td>1</td>\n",
       "      <td>6.0</td>\n",
       "      <td>1</td>\n",
       "      <td>1</td>\n",
       "      <td>0</td>\n",
       "      <td>0</td>\n",
       "      <td>0</td>\n",
       "    </tr>\n",
       "    <tr>\n",
       "      <th>2</th>\n",
       "      <td>26</td>\n",
       "      <td>1142</td>\n",
       "      <td>2</td>\n",
       "      <td>2</td>\n",
       "      <td>2</td>\n",
       "      <td>2</td>\n",
       "      <td>5</td>\n",
       "      <td>5</td>\n",
       "      <td>5</td>\n",
       "      <td>5</td>\n",
       "      <td>...</td>\n",
       "      <td>4</td>\n",
       "      <td>4</td>\n",
       "      <td>5</td>\n",
       "      <td>0</td>\n",
       "      <td>0.0</td>\n",
       "      <td>0</td>\n",
       "      <td>0</td>\n",
       "      <td>0</td>\n",
       "      <td>0</td>\n",
       "      <td>0</td>\n",
       "    </tr>\n",
       "    <tr>\n",
       "      <th>3</th>\n",
       "      <td>25</td>\n",
       "      <td>562</td>\n",
       "      <td>2</td>\n",
       "      <td>5</td>\n",
       "      <td>5</td>\n",
       "      <td>5</td>\n",
       "      <td>2</td>\n",
       "      <td>2</td>\n",
       "      <td>2</td>\n",
       "      <td>2</td>\n",
       "      <td>...</td>\n",
       "      <td>1</td>\n",
       "      <td>4</td>\n",
       "      <td>2</td>\n",
       "      <td>11</td>\n",
       "      <td>9.0</td>\n",
       "      <td>0</td>\n",
       "      <td>0</td>\n",
       "      <td>0</td>\n",
       "      <td>0</td>\n",
       "      <td>0</td>\n",
       "    </tr>\n",
       "    <tr>\n",
       "      <th>4</th>\n",
       "      <td>61</td>\n",
       "      <td>214</td>\n",
       "      <td>3</td>\n",
       "      <td>3</td>\n",
       "      <td>3</td>\n",
       "      <td>3</td>\n",
       "      <td>4</td>\n",
       "      <td>5</td>\n",
       "      <td>5</td>\n",
       "      <td>3</td>\n",
       "      <td>...</td>\n",
       "      <td>3</td>\n",
       "      <td>3</td>\n",
       "      <td>3</td>\n",
       "      <td>0</td>\n",
       "      <td>0.0</td>\n",
       "      <td>1</td>\n",
       "      <td>0</td>\n",
       "      <td>0</td>\n",
       "      <td>0</td>\n",
       "      <td>0</td>\n",
       "    </tr>\n",
       "  </tbody>\n",
       "</table>\n",
       "<p>5 rows × 23 columns</p>\n",
       "</div>"
      ],
      "text/plain": [
       "   Age  Flight_Distance  Inflight_wifi_service  \\\n",
       "0   13              460                      3   \n",
       "1   25              235                      3   \n",
       "2   26             1142                      2   \n",
       "3   25              562                      2   \n",
       "4   61              214                      3   \n",
       "\n",
       "   Departure/Arrival_time_convenient  Ease_of_Online_booking  Gate_location  \\\n",
       "0                                  4                       3              1   \n",
       "1                                  2                       3              3   \n",
       "2                                  2                       2              2   \n",
       "3                                  5                       5              5   \n",
       "4                                  3                       3              3   \n",
       "\n",
       "   Food_and_drink  Online_boarding  Seat_comfort  Inflight_entertainment  ...  \\\n",
       "0               5                3             5                       5  ...   \n",
       "1               1                3             1                       1  ...   \n",
       "2               5                5             5                       5  ...   \n",
       "3               2                2             2                       2  ...   \n",
       "4               4                5             5                       3  ...   \n",
       "\n",
       "   Checkin_service  Inflight_service  Cleanliness  Departure_Delay_in_Minutes  \\\n",
       "0                4                 5            5                          25   \n",
       "1                1                 4            1                           1   \n",
       "2                4                 4            5                           0   \n",
       "3                1                 4            2                          11   \n",
       "4                3                 3            3                           0   \n",
       "\n",
       "   Arrival_Delay_in_Minutes  Gender_Male  Customer_Type_disloyal Customer  \\\n",
       "0                      18.0            1                                0   \n",
       "1                       6.0            1                                1   \n",
       "2                       0.0            0                                0   \n",
       "3                       9.0            0                                0   \n",
       "4                       0.0            1                                0   \n",
       "\n",
       "   Type_of_Travel_Personal Travel  Class_Eco  Class_Eco Plus  \n",
       "0                               1          0               1  \n",
       "1                               0          0               0  \n",
       "2                               0          0               0  \n",
       "3                               0          0               0  \n",
       "4                               0          0               0  \n",
       "\n",
       "[5 rows x 23 columns]"
      ]
     },
     "execution_count": 140,
     "metadata": {},
     "output_type": "execute_result"
    }
   ],
   "source": [
    "X.head()"
   ]
  },
  {
   "cell_type": "markdown",
   "metadata": {},
   "source": [
    "### About Standardization:"
   ]
  },
  {
   "cell_type": "markdown",
   "metadata": {},
   "source": [
    "Most models we have chosen do not require standardization, such as Decision Trees, Random Forests, etc. However, we will need to standardize for the KNN model, SVM, and a lot of of other models, as standardization matters when calculating Euclidean distance, penalties, etc. Therefore, we chose normalization, which also allows us to move the points centered at zero. Here, I standardize the whole dataset because I want to use cross-validation latter, while in practice, scaling only using the training set will be better."
   ]
  },
  {
   "cell_type": "code",
   "execution_count": 141,
   "metadata": {},
   "outputs": [],
   "source": [
    "columns = airline_df.columns.to_list()\n",
    "categorical_features = ['id','satisfaction','Gender','Customer_Type','Type_of_Travel','Class']\n",
    "numerical_features = [x for x in columns if x not in categorical_features]"
   ]
  },
  {
   "cell_type": "markdown",
   "metadata": {},
   "source": [
    "One another thing to mention is that I will not normalize the binary values because it is more appropriate to keep them unchanged."
   ]
  },
  {
   "cell_type": "code",
   "execution_count": 142,
   "metadata": {},
   "outputs": [],
   "source": [
    "# preprocessing\n",
    "from sklearn.compose import ColumnTransformer\n",
    "from sklearn.preprocessing import StandardScaler\n",
    "\n",
    "scaler = StandardScaler()\n",
    "ct = ColumnTransformer([\n",
    "    (\"standardize\", scaler, numerical_features)], remainder = \"passthrough\")\n",
    "X = ct.fit_transform(X)"
   ]
  },
  {
   "cell_type": "code",
   "execution_count": 143,
   "metadata": {},
   "outputs": [],
   "source": [
    "# change X back to dataframe with columns names\n",
    "X = pd.DataFrame(X)\n",
    "X.columns = X_columns"
   ]
  },
  {
   "cell_type": "markdown",
   "metadata": {},
   "source": [
    "### Reduce Size of Data:"
   ]
  },
  {
   "cell_type": "markdown",
   "metadata": {},
   "source": [
    "**Note:**\n",
    "Similar to our Problem Set 8, consider speed and memory usage issues, I have memtioned in the introduction of this project that I will choose 20000 data points out of 105722 for my project. However, I would still run the model on the complete dataset for future exploration. "
   ]
  },
  {
   "cell_type": "code",
   "execution_count": 144,
   "metadata": {},
   "outputs": [],
   "source": [
    "X = X[:20000]\n",
    "y = y[:20000]"
   ]
  },
  {
   "cell_type": "code",
   "execution_count": 145,
   "metadata": {},
   "outputs": [
    {
     "data": {
      "text/html": [
       "<div>\n",
       "<style scoped>\n",
       "    .dataframe tbody tr th:only-of-type {\n",
       "        vertical-align: middle;\n",
       "    }\n",
       "\n",
       "    .dataframe tbody tr th {\n",
       "        vertical-align: top;\n",
       "    }\n",
       "\n",
       "    .dataframe thead th {\n",
       "        text-align: right;\n",
       "    }\n",
       "</style>\n",
       "<table border=\"1\" class=\"dataframe\">\n",
       "  <thead>\n",
       "    <tr style=\"text-align: right;\">\n",
       "      <th></th>\n",
       "      <th>Age</th>\n",
       "      <th>Flight_Distance</th>\n",
       "      <th>Inflight_wifi_service</th>\n",
       "      <th>Departure/Arrival_time_convenient</th>\n",
       "      <th>Ease_of_Online_booking</th>\n",
       "      <th>Gate_location</th>\n",
       "      <th>Food_and_drink</th>\n",
       "      <th>Online_boarding</th>\n",
       "      <th>Seat_comfort</th>\n",
       "      <th>Inflight_entertainment</th>\n",
       "      <th>...</th>\n",
       "      <th>Checkin_service</th>\n",
       "      <th>Inflight_service</th>\n",
       "      <th>Cleanliness</th>\n",
       "      <th>Departure_Delay_in_Minutes</th>\n",
       "      <th>Arrival_Delay_in_Minutes</th>\n",
       "      <th>Gender_Male</th>\n",
       "      <th>Customer_Type_disloyal Customer</th>\n",
       "      <th>Type_of_Travel_Personal Travel</th>\n",
       "      <th>Class_Eco</th>\n",
       "      <th>Class_Eco Plus</th>\n",
       "    </tr>\n",
       "  </thead>\n",
       "  <tbody>\n",
       "    <tr>\n",
       "      <th>0</th>\n",
       "      <td>-1.721579</td>\n",
       "      <td>-0.789266</td>\n",
       "      <td>0.200358</td>\n",
       "      <td>0.609748</td>\n",
       "      <td>0.168693</td>\n",
       "      <td>-1.549728</td>\n",
       "      <td>1.349886</td>\n",
       "      <td>-0.183224</td>\n",
       "      <td>1.182959</td>\n",
       "      <td>1.235752</td>\n",
       "      <td>...</td>\n",
       "      <td>0.540622</td>\n",
       "      <td>1.146018</td>\n",
       "      <td>1.307649</td>\n",
       "      <td>1.703881</td>\n",
       "      <td>1.188831</td>\n",
       "      <td>1.0</td>\n",
       "      <td>0.0</td>\n",
       "      <td>1.0</td>\n",
       "      <td>0.0</td>\n",
       "      <td>1.0</td>\n",
       "    </tr>\n",
       "    <tr>\n",
       "      <th>1</th>\n",
       "      <td>-0.933198</td>\n",
       "      <td>-1.061081</td>\n",
       "      <td>0.200358</td>\n",
       "      <td>-0.700185</td>\n",
       "      <td>0.168693</td>\n",
       "      <td>0.019368</td>\n",
       "      <td>-1.658074</td>\n",
       "      <td>-0.183224</td>\n",
       "      <td>-1.841656</td>\n",
       "      <td>-1.751744</td>\n",
       "      <td>...</td>\n",
       "      <td>-1.837429</td>\n",
       "      <td>0.291007</td>\n",
       "      <td>-1.736221</td>\n",
       "      <td>-0.431953</td>\n",
       "      <td>0.030453</td>\n",
       "      <td>1.0</td>\n",
       "      <td>1.0</td>\n",
       "      <td>0.0</td>\n",
       "      <td>0.0</td>\n",
       "      <td>0.0</td>\n",
       "    </tr>\n",
       "    <tr>\n",
       "      <th>2</th>\n",
       "      <td>-0.867499</td>\n",
       "      <td>0.034636</td>\n",
       "      <td>-0.554129</td>\n",
       "      <td>-0.700185</td>\n",
       "      <td>-0.550209</td>\n",
       "      <td>-0.765180</td>\n",
       "      <td>1.349886</td>\n",
       "      <td>1.304146</td>\n",
       "      <td>1.182959</td>\n",
       "      <td>1.235752</td>\n",
       "      <td>...</td>\n",
       "      <td>0.540622</td>\n",
       "      <td>0.291007</td>\n",
       "      <td>1.307649</td>\n",
       "      <td>-0.520947</td>\n",
       "      <td>-0.548737</td>\n",
       "      <td>0.0</td>\n",
       "      <td>0.0</td>\n",
       "      <td>0.0</td>\n",
       "      <td>0.0</td>\n",
       "      <td>0.0</td>\n",
       "    </tr>\n",
       "    <tr>\n",
       "      <th>3</th>\n",
       "      <td>-0.933198</td>\n",
       "      <td>-0.666043</td>\n",
       "      <td>-0.554129</td>\n",
       "      <td>1.264714</td>\n",
       "      <td>1.606496</td>\n",
       "      <td>1.588465</td>\n",
       "      <td>-0.906084</td>\n",
       "      <td>-0.926909</td>\n",
       "      <td>-1.085502</td>\n",
       "      <td>-1.004870</td>\n",
       "      <td>...</td>\n",
       "      <td>-1.837429</td>\n",
       "      <td>0.291007</td>\n",
       "      <td>-0.975254</td>\n",
       "      <td>0.457977</td>\n",
       "      <td>0.320047</td>\n",
       "      <td>0.0</td>\n",
       "      <td>0.0</td>\n",
       "      <td>0.0</td>\n",
       "      <td>0.0</td>\n",
       "      <td>0.0</td>\n",
       "    </tr>\n",
       "    <tr>\n",
       "      <th>4</th>\n",
       "      <td>1.431946</td>\n",
       "      <td>-1.086451</td>\n",
       "      <td>0.200358</td>\n",
       "      <td>-0.045219</td>\n",
       "      <td>0.168693</td>\n",
       "      <td>0.019368</td>\n",
       "      <td>0.597896</td>\n",
       "      <td>1.304146</td>\n",
       "      <td>1.182959</td>\n",
       "      <td>-0.257996</td>\n",
       "      <td>...</td>\n",
       "      <td>-0.252061</td>\n",
       "      <td>-0.564004</td>\n",
       "      <td>-0.214286</td>\n",
       "      <td>-0.520947</td>\n",
       "      <td>-0.548737</td>\n",
       "      <td>1.0</td>\n",
       "      <td>0.0</td>\n",
       "      <td>0.0</td>\n",
       "      <td>0.0</td>\n",
       "      <td>0.0</td>\n",
       "    </tr>\n",
       "  </tbody>\n",
       "</table>\n",
       "<p>5 rows × 23 columns</p>\n",
       "</div>"
      ],
      "text/plain": [
       "        Age  Flight_Distance  Inflight_wifi_service  \\\n",
       "0 -1.721579        -0.789266               0.200358   \n",
       "1 -0.933198        -1.061081               0.200358   \n",
       "2 -0.867499         0.034636              -0.554129   \n",
       "3 -0.933198        -0.666043              -0.554129   \n",
       "4  1.431946        -1.086451               0.200358   \n",
       "\n",
       "   Departure/Arrival_time_convenient  Ease_of_Online_booking  Gate_location  \\\n",
       "0                           0.609748                0.168693      -1.549728   \n",
       "1                          -0.700185                0.168693       0.019368   \n",
       "2                          -0.700185               -0.550209      -0.765180   \n",
       "3                           1.264714                1.606496       1.588465   \n",
       "4                          -0.045219                0.168693       0.019368   \n",
       "\n",
       "   Food_and_drink  Online_boarding  Seat_comfort  Inflight_entertainment  ...  \\\n",
       "0        1.349886        -0.183224      1.182959                1.235752  ...   \n",
       "1       -1.658074        -0.183224     -1.841656               -1.751744  ...   \n",
       "2        1.349886         1.304146      1.182959                1.235752  ...   \n",
       "3       -0.906084        -0.926909     -1.085502               -1.004870  ...   \n",
       "4        0.597896         1.304146      1.182959               -0.257996  ...   \n",
       "\n",
       "   Checkin_service  Inflight_service  Cleanliness  Departure_Delay_in_Minutes  \\\n",
       "0         0.540622          1.146018     1.307649                    1.703881   \n",
       "1        -1.837429          0.291007    -1.736221                   -0.431953   \n",
       "2         0.540622          0.291007     1.307649                   -0.520947   \n",
       "3        -1.837429          0.291007    -0.975254                    0.457977   \n",
       "4        -0.252061         -0.564004    -0.214286                   -0.520947   \n",
       "\n",
       "   Arrival_Delay_in_Minutes  Gender_Male  Customer_Type_disloyal Customer  \\\n",
       "0                  1.188831          1.0                              0.0   \n",
       "1                  0.030453          1.0                              1.0   \n",
       "2                 -0.548737          0.0                              0.0   \n",
       "3                  0.320047          0.0                              0.0   \n",
       "4                 -0.548737          1.0                              0.0   \n",
       "\n",
       "   Type_of_Travel_Personal Travel  Class_Eco  Class_Eco Plus  \n",
       "0                             1.0        0.0             1.0  \n",
       "1                             0.0        0.0             0.0  \n",
       "2                             0.0        0.0             0.0  \n",
       "3                             0.0        0.0             0.0  \n",
       "4                             0.0        0.0             0.0  \n",
       "\n",
       "[5 rows x 23 columns]"
      ]
     },
     "execution_count": 145,
     "metadata": {},
     "output_type": "execute_result"
    }
   ],
   "source": [
    "X.head()"
   ]
  },
  {
   "cell_type": "markdown",
   "metadata": {},
   "source": [
    "Below, I use a list to store the performance for different models."
   ]
  },
  {
   "cell_type": "code",
   "execution_count": 222,
   "metadata": {},
   "outputs": [],
   "source": [
    "result = []"
   ]
  },
  {
   "cell_type": "markdown",
   "metadata": {},
   "source": [
    "Due to the large amount of data that we have, running a Monte-Carlo simulation might not be efficient for every model. Therefore, I will still split our data into a training set and a testing set, but I might not use it for every model."
   ]
  },
  {
   "cell_type": "code",
   "execution_count": 147,
   "metadata": {},
   "outputs": [],
   "source": [
    "from sklearn.model_selection import train_test_split\n",
    "\n",
    "X_train, X_test, y_train, y_test = train_test_split(X, y, test_size = 0.5, random_state = 10, shuffle = True)"
   ]
  },
  {
   "cell_type": "markdown",
   "metadata": {},
   "source": [
    "### 1. KNN"
   ]
  },
  {
   "cell_type": "markdown",
   "metadata": {},
   "source": [
    "KNN model requires tuning hyperparameter k, so we will split our data into a training/validation set, and a testing set. By using cross-validation on the training/validation set, we will again split the training set into a training data for training and validation data to select the best k. After that, the best k is selected, and the model will be trained again on training/validation set, and the final performance will be evaluated on the testing set. (We could use a nested cross-validation as well, but here we only do this once for tuning hyperparameter.)\n",
    "\n",
    "KNN might not be an efficient model in this case if our data set is really large and it will run a long time, but after reducing the size of our data it would run faster. Also due to this reason, I will only run MCtraintest 5 times."
   ]
  },
  {
   "cell_type": "code",
   "execution_count": 223,
   "metadata": {},
   "outputs": [],
   "source": [
    "from sklearn.neighbors import KNeighborsClassifier"
   ]
  },
  {
   "cell_type": "markdown",
   "metadata": {},
   "source": [
    "Let's find the best hyperparameter k first:"
   ]
  },
  {
   "cell_type": "code",
   "execution_count": 226,
   "metadata": {},
   "outputs": [],
   "source": [
    "accuracy_results = []\n",
    "\n",
    "neignbors = range(1, 15)\n",
    "\n",
    "# for each k, get mean accuracy scores and show them as a dataframe\n",
    "# by using cross-validation on training set, we will split it into train data & validation data\n",
    "for k in neignbors:\n",
    "    knn = KNeighborsClassifier(n_neighbors = k, n_jobs = -1)\n",
    "    trainS, testS = MCtraintest(5, X, y, knn, 0.5)\n",
    "    accuracy_results.append({\n",
    "        \"k\": k,\n",
    "        \"train_score\": np.mean(trainS).round(5),\n",
    "        \"validation_score\": np.mean(testS).round(5)\n",
    "    })"
   ]
  },
  {
   "cell_type": "code",
   "execution_count": 227,
   "metadata": {},
   "outputs": [
    {
     "name": "stdout",
     "output_type": "stream",
     "text": [
      "     k  train_score  validation_score\n",
      "0    1      1.00000           0.88544\n",
      "1    2      0.93652           0.88734\n",
      "2    3      0.94662           0.90032\n",
      "3    4      0.92868           0.89572\n",
      "4    5      0.93198           0.90544\n",
      "5    6      0.92316           0.89970\n",
      "6    7      0.92764           0.90236\n",
      "7    8      0.91974           0.89994\n",
      "8    9      0.92134           0.90712\n",
      "9   10      0.91632           0.90168\n",
      "10  11      0.91830           0.90414\n",
      "11  12      0.91516           0.90112\n",
      "12  13      0.91546           0.90518\n",
      "13  14      0.91264           0.89930\n"
     ]
    }
   ],
   "source": [
    "# find the best k value using validation data\n",
    "accuracy_df = pd.DataFrame(accuracy_results)\n",
    "print(accuracy_df)"
   ]
  },
  {
   "cell_type": "code",
   "execution_count": 228,
   "metadata": {},
   "outputs": [
    {
     "name": "stdout",
     "output_type": "stream",
     "text": [
      "The best model is(are) the one(s) below: \n"
     ]
    },
    {
     "data": {
      "text/html": [
       "<div>\n",
       "<style scoped>\n",
       "    .dataframe tbody tr th:only-of-type {\n",
       "        vertical-align: middle;\n",
       "    }\n",
       "\n",
       "    .dataframe tbody tr th {\n",
       "        vertical-align: top;\n",
       "    }\n",
       "\n",
       "    .dataframe thead th {\n",
       "        text-align: right;\n",
       "    }\n",
       "</style>\n",
       "<table border=\"1\" class=\"dataframe\">\n",
       "  <thead>\n",
       "    <tr style=\"text-align: right;\">\n",
       "      <th></th>\n",
       "      <th>k</th>\n",
       "      <th>train_score</th>\n",
       "      <th>validation_score</th>\n",
       "    </tr>\n",
       "  </thead>\n",
       "  <tbody>\n",
       "    <tr>\n",
       "      <th>8</th>\n",
       "      <td>9</td>\n",
       "      <td>0.92134</td>\n",
       "      <td>0.90712</td>\n",
       "    </tr>\n",
       "  </tbody>\n",
       "</table>\n",
       "</div>"
      ],
      "text/plain": [
       "   k  train_score  validation_score\n",
       "8  9      0.92134           0.90712"
      ]
     },
     "execution_count": 228,
     "metadata": {},
     "output_type": "execute_result"
    }
   ],
   "source": [
    "print(\"The best model is(are) the one(s) below: \")\n",
    "accuracy_df[accuracy_df.validation_score == accuracy_df.validation_score.max()]"
   ]
  },
  {
   "cell_type": "code",
   "execution_count": 229,
   "metadata": {},
   "outputs": [
    {
     "data": {
      "text/plain": [
       "9"
      ]
     },
     "execution_count": 229,
     "metadata": {},
     "output_type": "execute_result"
    }
   ],
   "source": [
    "best_k = int(accuracy_df[accuracy_df.validation_score == accuracy_df.validation_score.max()].values[0, 0])\n",
    "best_k"
   ]
  },
  {
   "cell_type": "code",
   "execution_count": 230,
   "metadata": {},
   "outputs": [],
   "source": [
    "# finally we use our best model, and evaluate on testing set\n",
    "knn = KNeighborsClassifier(n_neighbors = best_k)\n",
    "knn.fit(X_train, y_train)\n",
    "y_pred = knn.predict(X_test)"
   ]
  },
  {
   "cell_type": "code",
   "execution_count": 231,
   "metadata": {},
   "outputs": [
    {
     "name": "stdout",
     "output_type": "stream",
     "text": [
      "Testing set accuracy:  0.9015\n"
     ]
    }
   ],
   "source": [
    "from sklearn.metrics import accuracy_score\n",
    "\n",
    "knn_test = accuracy_score(y_test, y_pred).round(5)\n",
    "print(\"Testing set accuracy: \", knn_test)"
   ]
  },
  {
   "cell_type": "code",
   "execution_count": 232,
   "metadata": {},
   "outputs": [],
   "source": [
    "from sklearn.metrics import plot_roc_curve\n",
    "from sklearn.metrics import accuracy_score\n",
    "from sklearn.metrics import confusion_matrix"
   ]
  },
  {
   "cell_type": "code",
   "execution_count": 233,
   "metadata": {},
   "outputs": [
    {
     "data": {
      "text/plain": [
       "array([[5348,  344],\n",
       "       [ 641, 3667]])"
      ]
     },
     "execution_count": 233,
     "metadata": {},
     "output_type": "execute_result"
    }
   ],
   "source": [
    "cmat = confusion_matrix(y_test, y_pred)\n",
    "tn, fp, fn, tp = cmat.ravel()\n",
    "cmat"
   ]
  },
  {
   "cell_type": "code",
   "execution_count": 234,
   "metadata": {},
   "outputs": [
    {
     "data": {
      "text/plain": [
       "0.9142358514086263"
      ]
     },
     "execution_count": 234,
     "metadata": {},
     "output_type": "execute_result"
    }
   ],
   "source": [
    "# precision\n",
    "precision = tp / (tp + fp) # or use precision_score(y_test, y_test_pred)\n",
    "precision"
   ]
  },
  {
   "cell_type": "code",
   "execution_count": 235,
   "metadata": {},
   "outputs": [
    {
     "data": {
      "text/plain": [
       "0.8512070566388115"
      ]
     },
     "execution_count": 235,
     "metadata": {},
     "output_type": "execute_result"
    }
   ],
   "source": [
    "# recall\n",
    "recall = tp / (tp + fn) # or use recall_score(y_test, y_test_pred)\n",
    "recall"
   ]
  },
  {
   "cell_type": "code",
   "execution_count": 236,
   "metadata": {},
   "outputs": [
    {
     "data": {
      "image/png": "[encoded data removed]",
      "text/plain": [
       "<Figure size 432x288 with 1 Axes>"
      ]
     },
     "metadata": {
      "needs_background": "light"
     },
     "output_type": "display_data"
    }
   ],
   "source": [
    "plot_roc_curve(knn, X_test, y_test)  \n",
    "plt.show() "
   ]
  },
  {
   "cell_type": "code",
   "execution_count": 237,
   "metadata": {},
   "outputs": [],
   "source": [
    "result.append({\"Model\": \"KNN\", \"Test_Score\": knn_test})"
   ]
  },
  {
   "cell_type": "markdown",
   "metadata": {},
   "source": [
    "### 2. Naive Bayes"
   ]
  },
  {
   "cell_type": "code",
   "execution_count": 238,
   "metadata": {},
   "outputs": [],
   "source": [
    "from sklearn.naive_bayes import GaussianNB"
   ]
  },
  {
   "cell_type": "code",
   "execution_count": 239,
   "metadata": {},
   "outputs": [
    {
     "name": "stdout",
     "output_type": "stream",
     "text": [
      "Training set accuracy:  0.92166\n",
      "Testing  set accuracy:  0.90378\n"
     ]
    }
   ],
   "source": [
    "naive_bayes = GaussianNB()\n",
    "trainS, testS = MCtraintest(20, X, y, knn, 0.5)\n",
    "print(\"Training set accuracy: \", np.mean(trainS).round(5))\n",
    "print(\"Testing  set accuracy: \", np.mean(testS).round(5))"
   ]
  },
  {
   "cell_type": "code",
   "execution_count": 240,
   "metadata": {},
   "outputs": [],
   "source": [
    "result.append({\"Model\": \"Naive Bayes\", \"Test_Score\": np.mean(testS)})"
   ]
  },
  {
   "cell_type": "markdown",
   "metadata": {},
   "source": [
    "### 3. Logistic"
   ]
  },
  {
   "cell_type": "code",
   "execution_count": 241,
   "metadata": {},
   "outputs": [],
   "source": [
    "from sklearn.linear_model import LogisticRegression"
   ]
  },
  {
   "cell_type": "markdown",
   "metadata": {},
   "source": [
    "#### Without Penalty:"
   ]
  },
  {
   "cell_type": "code",
   "execution_count": 242,
   "metadata": {},
   "outputs": [
    {
     "name": "stdout",
     "output_type": "stream",
     "text": [
      "Training set accuracy:  0.8737999999999999\n",
      "Testing  set accuracy:  0.8730249999999999\n"
     ]
    }
   ],
   "source": [
    "lr = LogisticRegression(penalty = \"none\", solver = \"lbfgs\", max_iter = 1000)\n",
    "trainS, testS = MCtraintest(20, X, y, lr, 0.5)\n",
    "print(\"Training set accuracy: \", np.mean(trainS))\n",
    "print(\"Testing  set accuracy: \", np.mean(testS))"
   ]
  },
  {
   "cell_type": "markdown",
   "metadata": {},
   "source": [
    "#### With Penalty:"
   ]
  },
  {
   "cell_type": "markdown",
   "metadata": {},
   "source": [
    "Now, even though the training set accuracy and testing set accuracy are pretty close, I still wanted to try Logistic model with panalty and see if it is improving the accuracy because of regularization. Usually, decreasing C will lead to lower cost of making errors, and therefore more regularization."
   ]
  },
  {
   "cell_type": "code",
   "execution_count": 257,
   "metadata": {},
   "outputs": [],
   "source": [
    "accuracy_results = []\n",
    "for Cparam in [15, 10, 7.5, 6, 5, 3, 1, 0.9, 0.8, 0.1, 0.01, 0.001]:\n",
    "    lr = LogisticRegression(penalty = \"l2\", solver = \"lbfgs\", C=Cparam, max_iter = 1000)\n",
    "    trainS, testS = MCtraintest(20, X_train, y_train, lr, 0.5)\n",
    "    accuracy_results.append({\n",
    "        \"C\": Cparam,\n",
    "        \"train_score\": np.mean(trainS).round(5),\n",
    "        \"validation_score\": np.mean(testS).round(5)\n",
    "    })"
   ]
  },
  {
   "cell_type": "code",
   "execution_count": 258,
   "metadata": {},
   "outputs": [
    {
     "name": "stdout",
     "output_type": "stream",
     "text": [
      "         C  train_score  validation_score\n",
      "0   15.000      0.87871           0.87446\n",
      "1   10.000      0.87778           0.87533\n",
      "2    7.500      0.87745           0.87628\n",
      "3    6.000      0.87810           0.87425\n",
      "4    5.000      0.87858           0.87446\n",
      "5    3.000      0.87777           0.87563\n",
      "6    1.000      0.87537           0.87685\n",
      "7    0.900      0.87790           0.87583\n",
      "8    0.800      0.87912           0.87432\n",
      "9    0.100      0.87716           0.87580\n",
      "10   0.010      0.86623           0.86530\n",
      "11   0.001      0.84273           0.83887\n"
     ]
    }
   ],
   "source": [
    "# find the best C value using validation data\n",
    "accuracy_df = pd.DataFrame(accuracy_results)\n",
    "print(accuracy_df)"
   ]
  },
  {
   "cell_type": "code",
   "execution_count": 259,
   "metadata": {
    "scrolled": true
   },
   "outputs": [
    {
     "name": "stdout",
     "output_type": "stream",
     "text": [
      "The best model is(are) the one(s) below: \n"
     ]
    },
    {
     "data": {
      "text/html": [
       "<div>\n",
       "<style scoped>\n",
       "    .dataframe tbody tr th:only-of-type {\n",
       "        vertical-align: middle;\n",
       "    }\n",
       "\n",
       "    .dataframe tbody tr th {\n",
       "        vertical-align: top;\n",
       "    }\n",
       "\n",
       "    .dataframe thead th {\n",
       "        text-align: right;\n",
       "    }\n",
       "</style>\n",
       "<table border=\"1\" class=\"dataframe\">\n",
       "  <thead>\n",
       "    <tr style=\"text-align: right;\">\n",
       "      <th></th>\n",
       "      <th>C</th>\n",
       "      <th>train_score</th>\n",
       "      <th>validation_score</th>\n",
       "    </tr>\n",
       "  </thead>\n",
       "  <tbody>\n",
       "    <tr>\n",
       "      <th>6</th>\n",
       "      <td>1.0</td>\n",
       "      <td>0.87537</td>\n",
       "      <td>0.87685</td>\n",
       "    </tr>\n",
       "  </tbody>\n",
       "</table>\n",
       "</div>"
      ],
      "text/plain": [
       "     C  train_score  validation_score\n",
       "6  1.0      0.87537           0.87685"
      ]
     },
     "execution_count": 259,
     "metadata": {},
     "output_type": "execute_result"
    }
   ],
   "source": [
    "print(\"The best model is(are) the one(s) below: \")\n",
    "accuracy_df[accuracy_df.validation_score == accuracy_df.validation_score.max()]"
   ]
  },
  {
   "cell_type": "code",
   "execution_count": 260,
   "metadata": {},
   "outputs": [
    {
     "data": {
      "text/plain": [
       "1"
      ]
     },
     "execution_count": 260,
     "metadata": {},
     "output_type": "execute_result"
    }
   ],
   "source": [
    "best_C = int(accuracy_df[accuracy_df.validation_score == accuracy_df.validation_score.max()].values[0, 0])\n",
    "best_C"
   ]
  },
  {
   "cell_type": "code",
   "execution_count": 261,
   "metadata": {},
   "outputs": [],
   "source": [
    "# finally we use our best model, and evaluate on testing set\n",
    "lr = LogisticRegression(penalty = \"l2\", solver = \"lbfgs\", C=best_C, max_iter = 1000)\n",
    "lr.fit(X_train, y_train)\n",
    "y_pred = lr.predict(X_test)"
   ]
  },
  {
   "cell_type": "code",
   "execution_count": 262,
   "metadata": {},
   "outputs": [
    {
     "name": "stdout",
     "output_type": "stream",
     "text": [
      "Testing set accuracy:  0.8693\n"
     ]
    }
   ],
   "source": [
    "lr_test = accuracy_score(y_test, y_pred).round(5)\n",
    "print(\"Testing set accuracy: \", lr_test)"
   ]
  },
  {
   "cell_type": "code",
   "execution_count": 263,
   "metadata": {},
   "outputs": [
    {
     "data": {
      "text/plain": [
       "array([[5138,  554],\n",
       "       [ 753, 3555]])"
      ]
     },
     "execution_count": 263,
     "metadata": {},
     "output_type": "execute_result"
    }
   ],
   "source": [
    "cmat = confusion_matrix(y_test, y_pred)\n",
    "tn, fp, fn, tp = cmat.ravel()\n",
    "cmat"
   ]
  },
  {
   "cell_type": "code",
   "execution_count": 264,
   "metadata": {},
   "outputs": [
    {
     "data": {
      "text/plain": [
       "0.8651740082745194"
      ]
     },
     "execution_count": 264,
     "metadata": {},
     "output_type": "execute_result"
    }
   ],
   "source": [
    "# precision\n",
    "precision = tp / (tp + fp) # or use precision_score(y_test, y_test_pred)\n",
    "precision"
   ]
  },
  {
   "cell_type": "code",
   "execution_count": 265,
   "metadata": {},
   "outputs": [
    {
     "data": {
      "text/plain": [
       "0.825208913649025"
      ]
     },
     "execution_count": 265,
     "metadata": {},
     "output_type": "execute_result"
    }
   ],
   "source": [
    "# recall\n",
    "recall = tp / (tp + fn) # or use recall_score(y_test, y_test_pred)\n",
    "recall"
   ]
  },
  {
   "cell_type": "code",
   "execution_count": 266,
   "metadata": {},
   "outputs": [
    {
     "data": {
      "image/png": "[encoded data removed]",
      "text/plain": [
       "<Figure size 432x288 with 1 Axes>"
      ]
     },
     "metadata": {
      "needs_background": "light"
     },
     "output_type": "display_data"
    }
   ],
   "source": [
    "plot_roc_curve(knn, X_test, y_test)  \n",
    "plt.show() "
   ]
  },
  {
   "cell_type": "markdown",
   "metadata": {},
   "source": [
    "#### Comparison:"
   ]
  },
  {
   "cell_type": "code",
   "execution_count": 267,
   "metadata": {},
   "outputs": [
    {
     "data": {
      "text/plain": [
       "True"
      ]
     },
     "execution_count": 267,
     "metadata": {},
     "output_type": "execute_result"
    }
   ],
   "source": [
    "0.87302 > 0.86930"
   ]
  },
  {
   "cell_type": "markdown",
   "metadata": {},
   "source": [
    "From the above, we could see that Logistic model without penalty actually performs better than the one with penalty. So, we will store the first testing score."
   ]
  },
  {
   "cell_type": "code",
   "execution_count": 268,
   "metadata": {},
   "outputs": [],
   "source": [
    "result.append({\"Model\": \"Logistic\", \"Test_Score\": 0.87302})"
   ]
  },
  {
   "cell_type": "markdown",
   "metadata": {},
   "source": [
    "### 4. SVM"
   ]
  },
  {
   "cell_type": "markdown",
   "metadata": {},
   "source": [
    "#### Linear Kernel:"
   ]
  },
  {
   "cell_type": "code",
   "execution_count": 278,
   "metadata": {},
   "outputs": [],
   "source": [
    "from sklearn.svm import SVC"
   ]
  },
  {
   "cell_type": "markdown",
   "metadata": {},
   "source": [
    "Still, we will need a hyperparameter-tuning step to find the best C:"
   ]
  },
  {
   "cell_type": "code",
   "execution_count": 276,
   "metadata": {},
   "outputs": [],
   "source": [
    "C = [500., 250., 100., 10., 1., 0.1, 0.01, 0.001]"
   ]
  },
  {
   "cell_type": "code",
   "execution_count": 280,
   "metadata": {},
   "outputs": [],
   "source": [
    "accuracy_results = []\n",
    "\n",
    "for cparam in C:\n",
    "    lsv = SVC(kernel=\"linear\", C=cparam)\n",
    "    \n",
    "    #here I used a MC split for random cross-validation\n",
    "    trainS, testS = MCtraintest(5, X_train, y_train, lsv, 0.5)\n",
    "    accuracy_results.append({\n",
    "        \"C\": cparam,\n",
    "        \"train_accuracy\": np.mean(trainS).round(4),\n",
    "        \"test_accuracy\": np.mean(testS).round(4),\n",
    "    })"
   ]
  },
  {
   "cell_type": "code",
   "execution_count": 283,
   "metadata": {},
   "outputs": [
    {
     "name": "stdout",
     "output_type": "stream",
     "text": [
      "         C  train_accuracy  validation_score\n",
      "0  500.000          0.8808            0.8776\n",
      "1  250.000          0.8812            0.8769\n",
      "2  100.000          0.8784            0.8792\n",
      "3   10.000          0.8814            0.8759\n",
      "4    1.000          0.8792            0.8788\n",
      "5    0.100          0.8801            0.8779\n",
      "6    0.010          0.8761            0.8715\n",
      "7    0.001          0.8582            0.8542\n"
     ]
    }
   ],
   "source": [
    "accuracy_df = pd.DataFrame(accuracy_results)\n",
    "accuracy_df.columns = [\"C\", \"train_accuracy\", \"validation_score\"]\n",
    "print(accuracy_df)"
   ]
  },
  {
   "cell_type": "code",
   "execution_count": 284,
   "metadata": {
    "scrolled": true
   },
   "outputs": [
    {
     "name": "stdout",
     "output_type": "stream",
     "text": [
      "The best model is(are) the one(s) below: \n"
     ]
    },
    {
     "data": {
      "text/html": [
       "<div>\n",
       "<style scoped>\n",
       "    .dataframe tbody tr th:only-of-type {\n",
       "        vertical-align: middle;\n",
       "    }\n",
       "\n",
       "    .dataframe tbody tr th {\n",
       "        vertical-align: top;\n",
       "    }\n",
       "\n",
       "    .dataframe thead th {\n",
       "        text-align: right;\n",
       "    }\n",
       "</style>\n",
       "<table border=\"1\" class=\"dataframe\">\n",
       "  <thead>\n",
       "    <tr style=\"text-align: right;\">\n",
       "      <th></th>\n",
       "      <th>C</th>\n",
       "      <th>train_accuracy</th>\n",
       "      <th>validation_score</th>\n",
       "    </tr>\n",
       "  </thead>\n",
       "  <tbody>\n",
       "    <tr>\n",
       "      <th>2</th>\n",
       "      <td>100.0</td>\n",
       "      <td>0.8784</td>\n",
       "      <td>0.8792</td>\n",
       "    </tr>\n",
       "  </tbody>\n",
       "</table>\n",
       "</div>"
      ],
      "text/plain": [
       "       C  train_accuracy  validation_score\n",
       "2  100.0          0.8784            0.8792"
      ]
     },
     "execution_count": 284,
     "metadata": {},
     "output_type": "execute_result"
    }
   ],
   "source": [
    "print(\"The best model is(are) the one(s) below: \")\n",
    "accuracy_df[accuracy_df.validation_score == accuracy_df.validation_score.max()]"
   ]
  },
  {
   "cell_type": "code",
   "execution_count": 285,
   "metadata": {},
   "outputs": [
    {
     "data": {
      "text/plain": [
       "100"
      ]
     },
     "execution_count": 285,
     "metadata": {},
     "output_type": "execute_result"
    }
   ],
   "source": [
    "best_C = int(accuracy_df[accuracy_df.validation_score == accuracy_df.validation_score.max()].values[0, 0])\n",
    "best_C"
   ]
  },
  {
   "cell_type": "code",
   "execution_count": 286,
   "metadata": {},
   "outputs": [],
   "source": [
    "# finally we use our best model, and evaluate on testing set\n",
    "lsv = SVC(kernel=\"linear\", C=best_C)\n",
    "lsv.fit(X_train, y_train)\n",
    "y_pred = lsv.predict(X_test)"
   ]
  },
  {
   "cell_type": "code",
   "execution_count": 287,
   "metadata": {},
   "outputs": [
    {
     "name": "stdout",
     "output_type": "stream",
     "text": [
      "Testing set accuracy:  0.8727\n"
     ]
    }
   ],
   "source": [
    "lsv_test = accuracy_score(y_test, y_pred).round(5)\n",
    "print(\"Testing set accuracy: \", lsv_test)"
   ]
  },
  {
   "cell_type": "markdown",
   "metadata": {},
   "source": [
    "#### RBF Kernel:"
   ]
  },
  {
   "cell_type": "markdown",
   "metadata": {},
   "source": [
    "Instead of using MCtraintest when tuning hyperparameters, here I decide to use GradSearchCV with ShuffleSplit to choose the best C and gamma."
   ]
  },
  {
   "cell_type": "code",
   "execution_count": 288,
   "metadata": {},
   "outputs": [],
   "source": [
    "from sklearn.model_selection import GridSearchCV\n",
    "from sklearn.model_selection import ShuffleSplit"
   ]
  },
  {
   "cell_type": "code",
   "execution_count": 289,
   "metadata": {},
   "outputs": [],
   "source": [
    "cRange = [0.25, 0.5, 0.75, 1.0, 1.5, 2.0]\n",
    "gRange = [0.0001,0.001,0.1,0.5,1.0,1.5,2.0]"
   ]
  },
  {
   "cell_type": "code",
   "execution_count": 295,
   "metadata": {},
   "outputs": [],
   "source": [
    "param_grid = {\"C\":cRange,\"gamma\": gRange,\"kernel\":[\"rbf\"]}\n",
    "shuffle_split = ShuffleSplit(test_size=0.5, n_splits=5)"
   ]
  },
  {
   "cell_type": "code",
   "execution_count": 296,
   "metadata": {},
   "outputs": [
    {
     "data": {
      "text/plain": [
       "GridSearchCV(cv=ShuffleSplit(n_splits=5, random_state=None, test_size=0.5, train_size=None),\n",
       "             estimator=SVC(),\n",
       "             param_grid={'C': [0.25, 0.5, 0.75, 1.0, 1.5, 2.0],\n",
       "                         'gamma': [0.0001, 0.001, 0.1, 0.5, 1.0, 1.5, 2.0],\n",
       "                         'kernel': ['rbf']},\n",
       "             return_train_score=True, scoring='r2')"
      ]
     },
     "execution_count": 296,
     "metadata": {},
     "output_type": "execute_result"
    }
   ],
   "source": [
    "svc_rbf = SVC()\n",
    "grid_search = GridSearchCV(svc_rbf,param_grid,cv=shuffle_split,scoring = \"r2\",return_train_score = True)\n",
    "grid_search.fit(X_train, y_train)"
   ]
  },
  {
   "cell_type": "code",
   "execution_count": 297,
   "metadata": {},
   "outputs": [
    {
     "data": {
      "text/plain": [
       "SVC(C=2.0, gamma=0.1)"
      ]
     },
     "execution_count": 297,
     "metadata": {},
     "output_type": "execute_result"
    }
   ],
   "source": [
    "grid_search.best_estimator_"
   ]
  },
  {
   "cell_type": "code",
   "execution_count": 301,
   "metadata": {},
   "outputs": [
    {
     "data": {
      "text/html": [
       "<div>\n",
       "<style scoped>\n",
       "    .dataframe tbody tr th:only-of-type {\n",
       "        vertical-align: middle;\n",
       "    }\n",
       "\n",
       "    .dataframe tbody tr th {\n",
       "        vertical-align: top;\n",
       "    }\n",
       "\n",
       "    .dataframe thead th {\n",
       "        text-align: right;\n",
       "    }\n",
       "</style>\n",
       "<table border=\"1\" class=\"dataframe\">\n",
       "  <thead>\n",
       "    <tr style=\"text-align: right;\">\n",
       "      <th></th>\n",
       "      <th>rank_test_score</th>\n",
       "      <th>mean_test_score</th>\n",
       "      <th>param_C</th>\n",
       "      <th>param_gamma</th>\n",
       "    </tr>\n",
       "  </thead>\n",
       "  <tbody>\n",
       "    <tr>\n",
       "      <th>0</th>\n",
       "      <td>32</td>\n",
       "      <td>-0.650762</td>\n",
       "      <td>0.25</td>\n",
       "      <td>0.0001</td>\n",
       "    </tr>\n",
       "    <tr>\n",
       "      <th>1</th>\n",
       "      <td>12</td>\n",
       "      <td>0.369792</td>\n",
       "      <td>0.25</td>\n",
       "      <td>0.001</td>\n",
       "    </tr>\n",
       "    <tr>\n",
       "      <th>2</th>\n",
       "      <td>6</td>\n",
       "      <td>0.611943</td>\n",
       "      <td>0.25</td>\n",
       "      <td>0.1</td>\n",
       "    </tr>\n",
       "    <tr>\n",
       "      <th>3</th>\n",
       "      <td>25</td>\n",
       "      <td>-0.235915</td>\n",
       "      <td>0.25</td>\n",
       "      <td>0.5</td>\n",
       "    </tr>\n",
       "    <tr>\n",
       "      <th>4</th>\n",
       "      <td>40</td>\n",
       "      <td>-0.755487</td>\n",
       "      <td>0.25</td>\n",
       "      <td>1</td>\n",
       "    </tr>\n",
       "    <tr>\n",
       "      <th>5</th>\n",
       "      <td>40</td>\n",
       "      <td>-0.755487</td>\n",
       "      <td>0.25</td>\n",
       "      <td>1.5</td>\n",
       "    </tr>\n",
       "    <tr>\n",
       "      <th>6</th>\n",
       "      <td>40</td>\n",
       "      <td>-0.755487</td>\n",
       "      <td>0.25</td>\n",
       "      <td>2</td>\n",
       "    </tr>\n",
       "    <tr>\n",
       "      <th>7</th>\n",
       "      <td>19</td>\n",
       "      <td>0.242516</td>\n",
       "      <td>0.5</td>\n",
       "      <td>0.0001</td>\n",
       "    </tr>\n",
       "    <tr>\n",
       "      <th>8</th>\n",
       "      <td>11</td>\n",
       "      <td>0.410569</td>\n",
       "      <td>0.5</td>\n",
       "      <td>0.001</td>\n",
       "    </tr>\n",
       "    <tr>\n",
       "      <th>9</th>\n",
       "      <td>5</td>\n",
       "      <td>0.674929</td>\n",
       "      <td>0.5</td>\n",
       "      <td>0.1</td>\n",
       "    </tr>\n",
       "    <tr>\n",
       "      <th>10</th>\n",
       "      <td>22</td>\n",
       "      <td>-0.064584</td>\n",
       "      <td>0.5</td>\n",
       "      <td>0.5</td>\n",
       "    </tr>\n",
       "    <tr>\n",
       "      <th>11</th>\n",
       "      <td>31</td>\n",
       "      <td>-0.618224</td>\n",
       "      <td>0.5</td>\n",
       "      <td>1</td>\n",
       "    </tr>\n",
       "    <tr>\n",
       "      <th>12</th>\n",
       "      <td>38</td>\n",
       "      <td>-0.753365</td>\n",
       "      <td>0.5</td>\n",
       "      <td>1.5</td>\n",
       "    </tr>\n",
       "    <tr>\n",
       "      <th>13</th>\n",
       "      <td>39</td>\n",
       "      <td>-0.754834</td>\n",
       "      <td>0.5</td>\n",
       "      <td>2</td>\n",
       "    </tr>\n",
       "    <tr>\n",
       "      <th>14</th>\n",
       "      <td>16</td>\n",
       "      <td>0.283636</td>\n",
       "      <td>0.75</td>\n",
       "      <td>0.0001</td>\n",
       "    </tr>\n",
       "    <tr>\n",
       "      <th>15</th>\n",
       "      <td>10</td>\n",
       "      <td>0.436844</td>\n",
       "      <td>0.75</td>\n",
       "      <td>0.001</td>\n",
       "    </tr>\n",
       "    <tr>\n",
       "      <th>16</th>\n",
       "      <td>4</td>\n",
       "      <td>0.699898</td>\n",
       "      <td>0.75</td>\n",
       "      <td>0.1</td>\n",
       "    </tr>\n",
       "    <tr>\n",
       "      <th>17</th>\n",
       "      <td>21</td>\n",
       "      <td>0.075615</td>\n",
       "      <td>0.75</td>\n",
       "      <td>0.5</td>\n",
       "    </tr>\n",
       "    <tr>\n",
       "      <th>18</th>\n",
       "      <td>27</td>\n",
       "      <td>-0.428458</td>\n",
       "      <td>0.75</td>\n",
       "      <td>1</td>\n",
       "    </tr>\n",
       "    <tr>\n",
       "      <th>19</th>\n",
       "      <td>36</td>\n",
       "      <td>-0.713038</td>\n",
       "      <td>0.75</td>\n",
       "      <td>1.5</td>\n",
       "    </tr>\n",
       "    <tr>\n",
       "      <th>20</th>\n",
       "      <td>37</td>\n",
       "      <td>-0.748633</td>\n",
       "      <td>0.75</td>\n",
       "      <td>2</td>\n",
       "    </tr>\n",
       "    <tr>\n",
       "      <th>21</th>\n",
       "      <td>15</td>\n",
       "      <td>0.306807</td>\n",
       "      <td>1</td>\n",
       "      <td>0.0001</td>\n",
       "    </tr>\n",
       "    <tr>\n",
       "      <th>22</th>\n",
       "      <td>9</td>\n",
       "      <td>0.444846</td>\n",
       "      <td>1</td>\n",
       "      <td>0.001</td>\n",
       "    </tr>\n",
       "    <tr>\n",
       "      <th>23</th>\n",
       "      <td>3</td>\n",
       "      <td>0.710346</td>\n",
       "      <td>1</td>\n",
       "      <td>0.1</td>\n",
       "    </tr>\n",
       "    <tr>\n",
       "      <th>24</th>\n",
       "      <td>20</td>\n",
       "      <td>0.187711</td>\n",
       "      <td>1</td>\n",
       "      <td>0.5</td>\n",
       "    </tr>\n",
       "    <tr>\n",
       "      <th>25</th>\n",
       "      <td>26</td>\n",
       "      <td>-0.300357</td>\n",
       "      <td>1</td>\n",
       "      <td>1</td>\n",
       "    </tr>\n",
       "    <tr>\n",
       "      <th>26</th>\n",
       "      <td>30</td>\n",
       "      <td>-0.577426</td>\n",
       "      <td>1</td>\n",
       "      <td>1.5</td>\n",
       "    </tr>\n",
       "    <tr>\n",
       "      <th>27</th>\n",
       "      <td>35</td>\n",
       "      <td>-0.706023</td>\n",
       "      <td>1</td>\n",
       "      <td>2</td>\n",
       "    </tr>\n",
       "    <tr>\n",
       "      <th>28</th>\n",
       "      <td>14</td>\n",
       "      <td>0.334875</td>\n",
       "      <td>1.5</td>\n",
       "      <td>0.0001</td>\n",
       "    </tr>\n",
       "    <tr>\n",
       "      <th>29</th>\n",
       "      <td>8</td>\n",
       "      <td>0.465251</td>\n",
       "      <td>1.5</td>\n",
       "      <td>0.001</td>\n",
       "    </tr>\n",
       "    <tr>\n",
       "      <th>30</th>\n",
       "      <td>2</td>\n",
       "      <td>0.716875</td>\n",
       "      <td>1.5</td>\n",
       "      <td>0.1</td>\n",
       "    </tr>\n",
       "    <tr>\n",
       "      <th>31</th>\n",
       "      <td>18</td>\n",
       "      <td>0.253145</td>\n",
       "      <td>1.5</td>\n",
       "      <td>0.5</td>\n",
       "    </tr>\n",
       "    <tr>\n",
       "      <th>32</th>\n",
       "      <td>23</td>\n",
       "      <td>-0.223664</td>\n",
       "      <td>1.5</td>\n",
       "      <td>1</td>\n",
       "    </tr>\n",
       "    <tr>\n",
       "      <th>33</th>\n",
       "      <td>28</td>\n",
       "      <td>-0.481639</td>\n",
       "      <td>1.5</td>\n",
       "      <td>1.5</td>\n",
       "    </tr>\n",
       "    <tr>\n",
       "      <th>34</th>\n",
       "      <td>33</td>\n",
       "      <td>-0.653965</td>\n",
       "      <td>1.5</td>\n",
       "      <td>2</td>\n",
       "    </tr>\n",
       "    <tr>\n",
       "      <th>35</th>\n",
       "      <td>13</td>\n",
       "      <td>0.355099</td>\n",
       "      <td>2</td>\n",
       "      <td>0.0001</td>\n",
       "    </tr>\n",
       "    <tr>\n",
       "      <th>36</th>\n",
       "      <td>7</td>\n",
       "      <td>0.482714</td>\n",
       "      <td>2</td>\n",
       "      <td>0.001</td>\n",
       "    </tr>\n",
       "    <tr>\n",
       "      <th>37</th>\n",
       "      <td>1</td>\n",
       "      <td>0.719641</td>\n",
       "      <td>2</td>\n",
       "      <td>0.1</td>\n",
       "    </tr>\n",
       "    <tr>\n",
       "      <th>38</th>\n",
       "      <td>17</td>\n",
       "      <td>0.253306</td>\n",
       "      <td>2</td>\n",
       "      <td>0.5</td>\n",
       "    </tr>\n",
       "    <tr>\n",
       "      <th>39</th>\n",
       "      <td>23</td>\n",
       "      <td>-0.223664</td>\n",
       "      <td>2</td>\n",
       "      <td>1</td>\n",
       "    </tr>\n",
       "    <tr>\n",
       "      <th>40</th>\n",
       "      <td>28</td>\n",
       "      <td>-0.481639</td>\n",
       "      <td>2</td>\n",
       "      <td>1.5</td>\n",
       "    </tr>\n",
       "    <tr>\n",
       "      <th>41</th>\n",
       "      <td>33</td>\n",
       "      <td>-0.653965</td>\n",
       "      <td>2</td>\n",
       "      <td>2</td>\n",
       "    </tr>\n",
       "  </tbody>\n",
       "</table>\n",
       "</div>"
      ],
      "text/plain": [
       "    rank_test_score  mean_test_score param_C param_gamma\n",
       "0                32        -0.650762    0.25      0.0001\n",
       "1                12         0.369792    0.25       0.001\n",
       "2                 6         0.611943    0.25         0.1\n",
       "3                25        -0.235915    0.25         0.5\n",
       "4                40        -0.755487    0.25           1\n",
       "5                40        -0.755487    0.25         1.5\n",
       "6                40        -0.755487    0.25           2\n",
       "7                19         0.242516     0.5      0.0001\n",
       "8                11         0.410569     0.5       0.001\n",
       "9                 5         0.674929     0.5         0.1\n",
       "10               22        -0.064584     0.5         0.5\n",
       "11               31        -0.618224     0.5           1\n",
       "12               38        -0.753365     0.5         1.5\n",
       "13               39        -0.754834     0.5           2\n",
       "14               16         0.283636    0.75      0.0001\n",
       "15               10         0.436844    0.75       0.001\n",
       "16                4         0.699898    0.75         0.1\n",
       "17               21         0.075615    0.75         0.5\n",
       "18               27        -0.428458    0.75           1\n",
       "19               36        -0.713038    0.75         1.5\n",
       "20               37        -0.748633    0.75           2\n",
       "21               15         0.306807       1      0.0001\n",
       "22                9         0.444846       1       0.001\n",
       "23                3         0.710346       1         0.1\n",
       "24               20         0.187711       1         0.5\n",
       "25               26        -0.300357       1           1\n",
       "26               30        -0.577426       1         1.5\n",
       "27               35        -0.706023       1           2\n",
       "28               14         0.334875     1.5      0.0001\n",
       "29                8         0.465251     1.5       0.001\n",
       "30                2         0.716875     1.5         0.1\n",
       "31               18         0.253145     1.5         0.5\n",
       "32               23        -0.223664     1.5           1\n",
       "33               28        -0.481639     1.5         1.5\n",
       "34               33        -0.653965     1.5           2\n",
       "35               13         0.355099       2      0.0001\n",
       "36                7         0.482714       2       0.001\n",
       "37                1         0.719641       2         0.1\n",
       "38               17         0.253306       2         0.5\n",
       "39               23        -0.223664       2           1\n",
       "40               28        -0.481639       2         1.5\n",
       "41               33        -0.653965       2           2"
      ]
     },
     "execution_count": 301,
     "metadata": {},
     "output_type": "execute_result"
    }
   ],
   "source": [
    "result_df = pd.DataFrame(grid_search.cv_results_)\n",
    "result_df = result_df[[\"rank_test_score\",\"mean_test_score\",\"param_C\",\"param_gamma\"]]\n",
    "result_df"
   ]
  },
  {
   "cell_type": "code",
   "execution_count": 304,
   "metadata": {},
   "outputs": [],
   "source": [
    "best_svc = SVC(kernel=\"rbf\",C=2.0, gamma=0.1)\n",
    "best_svc.fit(X_train, y_train)\n",
    "y_pred = best_svc.predict(X_test)"
   ]
  },
  {
   "cell_type": "code",
   "execution_count": 305,
   "metadata": {},
   "outputs": [
    {
     "name": "stdout",
     "output_type": "stream",
     "text": [
      "Testing set accuracy:  0.9338\n"
     ]
    }
   ],
   "source": [
    "svc_test = accuracy_score(y_test, y_pred).round(5)\n",
    "print(\"Testing set accuracy: \", svc_test)"
   ]
  },
  {
   "cell_type": "code",
   "execution_count": 306,
   "metadata": {},
   "outputs": [
    {
     "data": {
      "text/plain": [
       "array([[5413,  279],\n",
       "       [ 383, 3925]])"
      ]
     },
     "execution_count": 306,
     "metadata": {},
     "output_type": "execute_result"
    }
   ],
   "source": [
    "cmat = confusion_matrix(y_test, y_pred)\n",
    "tn, fp, fn, tp = cmat.ravel()\n",
    "cmat"
   ]
  },
  {
   "cell_type": "markdown",
   "metadata": {},
   "source": [
    "#### Compare Kernels:"
   ]
  },
  {
   "cell_type": "code",
   "execution_count": null,
   "metadata": {},
   "outputs": [],
   "source": [
    "0.8727 < 0.9338"
   ]
  },
  {
   "cell_type": "markdown",
   "metadata": {},
   "source": [
    "Obviously, our rbf kernel performs better than the linear kernel. Therefore, we will select SVC with rbf kernel as our optimal model for SVM here."
   ]
  },
  {
   "cell_type": "code",
   "execution_count": 307,
   "metadata": {},
   "outputs": [],
   "source": [
    "result.append({\"Model\": \"SVC_rbf\", \"Test_Score\": svc_test})"
   ]
  },
  {
   "cell_type": "markdown",
   "metadata": {},
   "source": [
    "### 5. Decision Tree"
   ]
  },
  {
   "cell_type": "code",
   "execution_count": 322,
   "metadata": {},
   "outputs": [],
   "source": [
    "from sklearn.tree import DecisionTreeClassifier"
   ]
  },
  {
   "cell_type": "code",
   "execution_count": 323,
   "metadata": {},
   "outputs": [],
   "source": [
    "param_grid = {\"max_depth\": [5,10,15,20,25,50]}"
   ]
  },
  {
   "cell_type": "code",
   "execution_count": 325,
   "metadata": {},
   "outputs": [
    {
     "data": {
      "text/plain": [
       "GridSearchCV(cv=ShuffleSplit(n_splits=5, random_state=None, test_size=0.5, train_size=None),\n",
       "             estimator=DecisionTreeClassifier(),\n",
       "             param_grid={'max_depth': [5, 10, 15, 20, 25, 50]},\n",
       "             return_train_score=True)"
      ]
     },
     "execution_count": 325,
     "metadata": {},
     "output_type": "execute_result"
    }
   ],
   "source": [
    "tree = DecisionTreeClassifier()\n",
    "grid_search = GridSearchCV(tree,param_grid,cv=shuffle_split,return_train_score=True)\n",
    "grid_search.fit(X_train, y_train)"
   ]
  },
  {
   "cell_type": "code",
   "execution_count": 326,
   "metadata": {},
   "outputs": [
    {
     "data": {
      "text/plain": [
       "DecisionTreeClassifier(max_depth=10)"
      ]
     },
     "execution_count": 326,
     "metadata": {},
     "output_type": "execute_result"
    }
   ],
   "source": [
    "grid_search.best_estimator_"
   ]
  },
  {
   "cell_type": "code",
   "execution_count": 328,
   "metadata": {},
   "outputs": [
    {
     "data": {
      "text/html": [
       "<div>\n",
       "<style scoped>\n",
       "    .dataframe tbody tr th:only-of-type {\n",
       "        vertical-align: middle;\n",
       "    }\n",
       "\n",
       "    .dataframe tbody tr th {\n",
       "        vertical-align: top;\n",
       "    }\n",
       "\n",
       "    .dataframe thead th {\n",
       "        text-align: right;\n",
       "    }\n",
       "</style>\n",
       "<table border=\"1\" class=\"dataframe\">\n",
       "  <thead>\n",
       "    <tr style=\"text-align: right;\">\n",
       "      <th></th>\n",
       "      <th>rank_test_score</th>\n",
       "      <th>mean_test_score</th>\n",
       "      <th>param_max_depth</th>\n",
       "    </tr>\n",
       "  </thead>\n",
       "  <tbody>\n",
       "    <tr>\n",
       "      <th>0</th>\n",
       "      <td>6</td>\n",
       "      <td>0.90648</td>\n",
       "      <td>5</td>\n",
       "    </tr>\n",
       "    <tr>\n",
       "      <th>1</th>\n",
       "      <td>1</td>\n",
       "      <td>0.92184</td>\n",
       "      <td>10</td>\n",
       "    </tr>\n",
       "    <tr>\n",
       "      <th>2</th>\n",
       "      <td>2</td>\n",
       "      <td>0.91292</td>\n",
       "      <td>15</td>\n",
       "    </tr>\n",
       "    <tr>\n",
       "      <th>3</th>\n",
       "      <td>4</td>\n",
       "      <td>0.91024</td>\n",
       "      <td>20</td>\n",
       "    </tr>\n",
       "    <tr>\n",
       "      <th>4</th>\n",
       "      <td>3</td>\n",
       "      <td>0.91216</td>\n",
       "      <td>25</td>\n",
       "    </tr>\n",
       "    <tr>\n",
       "      <th>5</th>\n",
       "      <td>5</td>\n",
       "      <td>0.91020</td>\n",
       "      <td>50</td>\n",
       "    </tr>\n",
       "  </tbody>\n",
       "</table>\n",
       "</div>"
      ],
      "text/plain": [
       "   rank_test_score  mean_test_score param_max_depth\n",
       "0                6          0.90648               5\n",
       "1                1          0.92184              10\n",
       "2                2          0.91292              15\n",
       "3                4          0.91024              20\n",
       "4                3          0.91216              25\n",
       "5                5          0.91020              50"
      ]
     },
     "execution_count": 328,
     "metadata": {},
     "output_type": "execute_result"
    }
   ],
   "source": [
    "result_df = pd.DataFrame(grid_search.cv_results_)\n",
    "result_df = result_df[[\"rank_test_score\",\"mean_test_score\",\"param_max_depth\"]]\n",
    "result_df"
   ]
  },
  {
   "cell_type": "code",
   "execution_count": 330,
   "metadata": {},
   "outputs": [],
   "source": [
    "best_tree = DecisionTreeClassifier(max_depth=10)\n",
    "best_tree.fit(X_train, y_train)\n",
    "y_pred = best_tree.predict(X_test)"
   ]
  },
  {
   "cell_type": "code",
   "execution_count": 331,
   "metadata": {},
   "outputs": [
    {
     "name": "stdout",
     "output_type": "stream",
     "text": [
      "Testing set accuracy:  0.9216\n"
     ]
    }
   ],
   "source": [
    "tree_test = accuracy_score(y_test, y_pred).round(5)\n",
    "print(\"Testing set accuracy: \", tree_test)"
   ]
  },
  {
   "cell_type": "code",
   "execution_count": 333,
   "metadata": {},
   "outputs": [
    {
     "data": {
      "text/plain": [
       "array([[5304,  388],\n",
       "       [ 396, 3912]])"
      ]
     },
     "execution_count": 333,
     "metadata": {},
     "output_type": "execute_result"
    }
   ],
   "source": [
    "cmat = confusion_matrix(y_test, y_pred)\n",
    "tn, fp, fn, tp = cmat.ravel()\n",
    "cmat"
   ]
  },
  {
   "cell_type": "code",
   "execution_count": 332,
   "metadata": {},
   "outputs": [
    {
     "name": "stdout",
     "output_type": "stream",
     "text": [
      "                              feature  importance\n",
      "18                        Gender_Male    0.001148\n",
      "22                     Class_Eco Plus    0.001148\n",
      "4              Ease_of_Online_booking    0.002056\n",
      "16         Departure_Delay_in_Minutes    0.003050\n",
      "3   Departure/Arrival_time_convenient    0.004268\n",
      "5                       Gate_location    0.006626\n",
      "10                   On-board_service    0.009355\n",
      "8                        Seat_comfort    0.009509\n",
      "21                          Class_Eco    0.010508\n",
      "17           Arrival_Delay_in_Minutes    0.011216\n",
      "11                   Leg_room_service    0.012139\n",
      "0                                 Age    0.013958\n",
      "19    Customer_Type_disloyal Customer    0.014473\n",
      "12                   Baggage_handling    0.015310\n",
      "14                   Inflight_service    0.017624\n",
      "15                        Cleanliness    0.017748\n",
      "13                    Checkin_service    0.018664\n",
      "1                     Flight_Distance    0.019523\n",
      "6                      Food_and_drink    0.020379\n",
      "9              Inflight_entertainment    0.042350\n",
      "20     Type_of_Travel_Personal Travel    0.145519\n",
      "2               Inflight_wifi_service    0.197692\n",
      "7                     Online_boarding    0.405738\n"
     ]
    },
    {
     "data": {
      "image/png": "[encoded data removed]",
      "text/plain": [
       "<Figure size 432x288 with 1 Axes>"
      ]
     },
     "metadata": {
      "needs_background": "light"
     },
     "output_type": "display_data"
    }
   ],
   "source": [
    "importances = best_tree.feature_importances_\n",
    "\n",
    "df = pd.DataFrame({'feature': X_train.columns, 'importance': importances})\n",
    "df = df.sort_values('importance')\n",
    "print(df)\n",
    "\n",
    "ax = df.plot(kind='barh', x='feature', legend=False)\n",
    "ax.set_ylabel('')\n",
    "\n",
    "plt.tight_layout()\n",
    "plt.show()"
   ]
  },
  {
   "cell_type": "markdown",
   "metadata": {},
   "source": [
    "One good characteristic about decision tree models is that it is doing a feature selection automatically by comparing feature importance, and provides us with information about what features are most critical in determining the customer satisfaction. From the above, Online_boarding, Inflight_wifi_service, Type_of_Travel_Personal Travel, Inflight_entertainment and Food_and_drink are the top five essential features in determining the customer's satisfaction rating."
   ]
  },
  {
   "cell_type": "code",
   "execution_count": 334,
   "metadata": {},
   "outputs": [],
   "source": [
    "result.append({\"Model\": \"DecisionTree\", \"Test_Score\": tree_test})"
   ]
  },
  {
   "cell_type": "markdown",
   "metadata": {},
   "source": [
    "### 6. Random Forest"
   ]
  },
  {
   "cell_type": "code",
   "execution_count": 335,
   "metadata": {},
   "outputs": [],
   "source": [
    "from sklearn.ensemble import RandomForestClassifier"
   ]
  },
  {
   "cell_type": "code",
   "execution_count": 343,
   "metadata": {},
   "outputs": [],
   "source": [
    "param_grid = {\"max_depth\": [2,5,10,15,20,25],\"max_features\":[3,5,10],\"n_estimators\":[100]}"
   ]
  },
  {
   "cell_type": "code",
   "execution_count": 344,
   "metadata": {},
   "outputs": [
    {
     "data": {
      "text/plain": [
       "GridSearchCV(cv=ShuffleSplit(n_splits=5, random_state=None, test_size=0.5, train_size=None),\n",
       "             estimator=RandomForestClassifier(oob_score=True, random_state=42),\n",
       "             param_grid={'max_depth': [2, 5, 10, 15, 20, 25],\n",
       "                         'max_features': [3, 5, 10], 'n_estimators': [100]},\n",
       "             return_train_score=True)"
      ]
     },
     "execution_count": 344,
     "metadata": {},
     "output_type": "execute_result"
    }
   ],
   "source": [
    "forest = RandomForestClassifier(oob_score=True, random_state=42)\n",
    "grid_search = GridSearchCV(forest,param_grid,cv=shuffle_split,return_train_score=True)\n",
    "grid_search.fit(X_train, y_train)"
   ]
  },
  {
   "cell_type": "code",
   "execution_count": 345,
   "metadata": {},
   "outputs": [
    {
     "data": {
      "text/plain": [
       "RandomForestClassifier(max_depth=20, max_features=10, oob_score=True,\n",
       "                       random_state=42)"
      ]
     },
     "execution_count": 345,
     "metadata": {},
     "output_type": "execute_result"
    }
   ],
   "source": [
    "grid_search.best_estimator_"
   ]
  },
  {
   "cell_type": "code",
   "execution_count": 346,
   "metadata": {},
   "outputs": [
    {
     "data": {
      "text/html": [
       "<div>\n",
       "<style scoped>\n",
       "    .dataframe tbody tr th:only-of-type {\n",
       "        vertical-align: middle;\n",
       "    }\n",
       "\n",
       "    .dataframe tbody tr th {\n",
       "        vertical-align: top;\n",
       "    }\n",
       "\n",
       "    .dataframe thead th {\n",
       "        text-align: right;\n",
       "    }\n",
       "</style>\n",
       "<table border=\"1\" class=\"dataframe\">\n",
       "  <thead>\n",
       "    <tr style=\"text-align: right;\">\n",
       "      <th></th>\n",
       "      <th>rank_test_score</th>\n",
       "      <th>mean_test_score</th>\n",
       "      <th>param_max_depth</th>\n",
       "    </tr>\n",
       "  </thead>\n",
       "  <tbody>\n",
       "    <tr>\n",
       "      <th>0</th>\n",
       "      <td>17</td>\n",
       "      <td>0.87324</td>\n",
       "      <td>2</td>\n",
       "    </tr>\n",
       "    <tr>\n",
       "      <th>1</th>\n",
       "      <td>16</td>\n",
       "      <td>0.88424</td>\n",
       "      <td>2</td>\n",
       "    </tr>\n",
       "    <tr>\n",
       "      <th>2</th>\n",
       "      <td>18</td>\n",
       "      <td>0.85900</td>\n",
       "      <td>2</td>\n",
       "    </tr>\n",
       "    <tr>\n",
       "      <th>3</th>\n",
       "      <td>15</td>\n",
       "      <td>0.90968</td>\n",
       "      <td>5</td>\n",
       "    </tr>\n",
       "    <tr>\n",
       "      <th>4</th>\n",
       "      <td>13</td>\n",
       "      <td>0.92160</td>\n",
       "      <td>5</td>\n",
       "    </tr>\n",
       "    <tr>\n",
       "      <th>5</th>\n",
       "      <td>14</td>\n",
       "      <td>0.92016</td>\n",
       "      <td>5</td>\n",
       "    </tr>\n",
       "    <tr>\n",
       "      <th>6</th>\n",
       "      <td>12</td>\n",
       "      <td>0.93292</td>\n",
       "      <td>10</td>\n",
       "    </tr>\n",
       "    <tr>\n",
       "      <th>7</th>\n",
       "      <td>8</td>\n",
       "      <td>0.93688</td>\n",
       "      <td>10</td>\n",
       "    </tr>\n",
       "    <tr>\n",
       "      <th>8</th>\n",
       "      <td>4</td>\n",
       "      <td>0.94064</td>\n",
       "      <td>10</td>\n",
       "    </tr>\n",
       "    <tr>\n",
       "      <th>9</th>\n",
       "      <td>11</td>\n",
       "      <td>0.93616</td>\n",
       "      <td>15</td>\n",
       "    </tr>\n",
       "    <tr>\n",
       "      <th>10</th>\n",
       "      <td>5</td>\n",
       "      <td>0.94012</td>\n",
       "      <td>15</td>\n",
       "    </tr>\n",
       "    <tr>\n",
       "      <th>11</th>\n",
       "      <td>3</td>\n",
       "      <td>0.94264</td>\n",
       "      <td>15</td>\n",
       "    </tr>\n",
       "    <tr>\n",
       "      <th>12</th>\n",
       "      <td>10</td>\n",
       "      <td>0.93676</td>\n",
       "      <td>20</td>\n",
       "    </tr>\n",
       "    <tr>\n",
       "      <th>13</th>\n",
       "      <td>7</td>\n",
       "      <td>0.93940</td>\n",
       "      <td>20</td>\n",
       "    </tr>\n",
       "    <tr>\n",
       "      <th>14</th>\n",
       "      <td>1</td>\n",
       "      <td>0.94328</td>\n",
       "      <td>20</td>\n",
       "    </tr>\n",
       "    <tr>\n",
       "      <th>15</th>\n",
       "      <td>9</td>\n",
       "      <td>0.93680</td>\n",
       "      <td>25</td>\n",
       "    </tr>\n",
       "    <tr>\n",
       "      <th>16</th>\n",
       "      <td>6</td>\n",
       "      <td>0.93980</td>\n",
       "      <td>25</td>\n",
       "    </tr>\n",
       "    <tr>\n",
       "      <th>17</th>\n",
       "      <td>2</td>\n",
       "      <td>0.94276</td>\n",
       "      <td>25</td>\n",
       "    </tr>\n",
       "  </tbody>\n",
       "</table>\n",
       "</div>"
      ],
      "text/plain": [
       "    rank_test_score  mean_test_score param_max_depth\n",
       "0                17          0.87324               2\n",
       "1                16          0.88424               2\n",
       "2                18          0.85900               2\n",
       "3                15          0.90968               5\n",
       "4                13          0.92160               5\n",
       "5                14          0.92016               5\n",
       "6                12          0.93292              10\n",
       "7                 8          0.93688              10\n",
       "8                 4          0.94064              10\n",
       "9                11          0.93616              15\n",
       "10                5          0.94012              15\n",
       "11                3          0.94264              15\n",
       "12               10          0.93676              20\n",
       "13                7          0.93940              20\n",
       "14                1          0.94328              20\n",
       "15                9          0.93680              25\n",
       "16                6          0.93980              25\n",
       "17                2          0.94276              25"
      ]
     },
     "execution_count": 346,
     "metadata": {},
     "output_type": "execute_result"
    }
   ],
   "source": [
    "result_df = pd.DataFrame(grid_search.cv_results_)\n",
    "result_df = result_df[[\"rank_test_score\",\"mean_test_score\",\"param_max_depth\"]]\n",
    "result_df"
   ]
  },
  {
   "cell_type": "code",
   "execution_count": 348,
   "metadata": {},
   "outputs": [],
   "source": [
    "best_forest = RandomForestClassifier(max_depth=20,max_features=10,n_estimators=100)\n",
    "best_forest.fit(X_train, y_train)\n",
    "y_pred = best_forest.predict(X_test)"
   ]
  },
  {
   "cell_type": "code",
   "execution_count": 349,
   "metadata": {},
   "outputs": [
    {
     "data": {
      "image/png": "[encoded data removed]",
      "text/plain": [
       "<Figure size 432x288 with 1 Axes>"
      ]
     },
     "metadata": {
      "needs_background": "light"
     },
     "output_type": "display_data"
    }
   ],
   "source": [
    "def plot_feature_importances(model):\n",
    "    n_features = X_train.shape[1]\n",
    "    plt.barh(range(n_features), model.feature_importances_, align='center')\n",
    "    plt.yticks(np.arange(n_features), X.columns)\n",
    "    plt.xlabel(\"Feature importance\")\n",
    "    plt.ylabel(\"Feature\")\n",
    "    plt.ylim(-1, n_features)\n",
    "    \n",
    "plot_feature_importances(best_forest)"
   ]
  },
  {
   "cell_type": "markdown",
   "metadata": {},
   "source": [
    "On top of our decision tree model, random forest is one ensembling method that is more robust and versatile than trees in the sense that they aggregate many trees together and yield better results. The graph also visualizes what features contribute more, but features look more diversified than trees. "
   ]
  },
  {
   "cell_type": "code",
   "execution_count": 350,
   "metadata": {},
   "outputs": [
    {
     "name": "stdout",
     "output_type": "stream",
     "text": [
      "Testing set accuracy:  0.9456\n"
     ]
    }
   ],
   "source": [
    "forest_test = accuracy_score(y_test, y_pred).round(5)\n",
    "print(\"Testing set accuracy: \", forest_test)"
   ]
  },
  {
   "cell_type": "markdown",
   "metadata": {},
   "source": [
    "It turns out that random forest generates a better result as we expected."
   ]
  },
  {
   "cell_type": "code",
   "execution_count": 351,
   "metadata": {},
   "outputs": [
    {
     "data": {
      "text/plain": [
       "array([[5459,  233],\n",
       "       [ 311, 3997]])"
      ]
     },
     "execution_count": 351,
     "metadata": {},
     "output_type": "execute_result"
    }
   ],
   "source": [
    "cmat = confusion_matrix(y_test, y_pred)\n",
    "tn, fp, fn, tp = cmat.ravel()\n",
    "cmat"
   ]
  },
  {
   "cell_type": "code",
   "execution_count": 352,
   "metadata": {},
   "outputs": [],
   "source": [
    "result.append({\"Model\": \"RandomForest\", \"Test_Score\": forest_test})"
   ]
  },
  {
   "cell_type": "markdown",
   "metadata": {},
   "source": [
    "### 7. Voting Classifier"
   ]
  },
  {
   "cell_type": "code",
   "execution_count": 360,
   "metadata": {},
   "outputs": [],
   "source": [
    "from sklearn.ensemble import VotingClassifier"
   ]
  },
  {
   "cell_type": "markdown",
   "metadata": {},
   "source": [
    "Now we could use a voting classifier. This is one of the ensemble methods that combines several diversified models together, and we aim to produce a strong learner. This indeed tends to generate a great performance if all classifiers are independent, making uncorrelated errors. This is based on the law of large number theorem or the \"wisdom\" of the crowd. Here, I will chose some weak models that we just covered in earlier sections with hyperparameters tuned already. "
   ]
  },
  {
   "cell_type": "code",
   "execution_count": 366,
   "metadata": {},
   "outputs": [],
   "source": [
    "knn = KNeighborsClassifier(n_neighbors = 9)\n",
    "naive_bayes = GaussianNB()\n",
    "lr = LogisticRegression(penalty = \"none\", solver = \"lbfgs\", max_iter = 1000)\n",
    "svc = SVC(kernel=\"rbf\",C=2.0, gamma=0.1)"
   ]
  },
  {
   "cell_type": "code",
   "execution_count": 367,
   "metadata": {},
   "outputs": [
    {
     "data": {
      "text/plain": [
       "VotingClassifier(estimators=[('knn', KNeighborsClassifier(n_neighbors=9)),\n",
       "                             ('naive_bayes', GaussianNB()),\n",
       "                             ('lr',\n",
       "                              LogisticRegression(max_iter=1000,\n",
       "                                                 penalty='none')),\n",
       "                             ('svc', SVC(C=2.0, gamma=0.1))])"
      ]
     },
     "execution_count": 367,
     "metadata": {},
     "output_type": "execute_result"
    }
   ],
   "source": [
    "voting_clf = VotingClassifier(\n",
    "    estimators=[('knn',knn),('naive_bayes',naive_bayes),('lr',lr),('svc',svc)])\n",
    "voting_clf.fit(X_train, y_train)"
   ]
  },
  {
   "cell_type": "code",
   "execution_count": 368,
   "metadata": {},
   "outputs": [
    {
     "name": "stdout",
     "output_type": "stream",
     "text": [
      "KNeighborsClassifier 0.9015\n",
      "GaussianNB 0.8586\n",
      "LogisticRegression 0.8691\n",
      "SVC 0.9338\n",
      "VotingClassifier 0.9007\n"
     ]
    }
   ],
   "source": [
    "for clf in (knn,naive_bayes,lr,svc,voting_clf):\n",
    "    clf.fit(X_train, y_train)\n",
    "    y_pred = clf.predict(X_test)\n",
    "    print(clf.__class__.__name__, accuracy_score(y_test, y_pred))"
   ]
  },
  {
   "cell_type": "markdown",
   "metadata": {},
   "source": [
    "From the above, our Voting Classifier has a better performance than GaussianNB, and Logistic model, similar to the KNN, but it does not look better than SVC with rbf kernel. The reason for this might be that our classifiers are not perfectly independent and not diversified."
   ]
  },
  {
   "cell_type": "code",
   "execution_count": 369,
   "metadata": {},
   "outputs": [],
   "source": [
    "result.append({\"Model\": \"Voting Classifier\", \"Test_Score\": 0.9007})"
   ]
  },
  {
   "cell_type": "markdown",
   "metadata": {},
   "source": [
    "### 8. Bagging"
   ]
  },
  {
   "cell_type": "markdown",
   "metadata": {},
   "source": [
    "Another ensemble method we could try here would be bagging classifier (Random Forest is also one of bagging method). We will train an ensemble of 1000 Decision Tree Classifiers, and each is trained on 5000 (half training) instances randomly sampled with replacement in the training set. This could create a relatively larger bias, but lower variance, and thereby improve the performance."
   ]
  },
  {
   "cell_type": "code",
   "execution_count": 370,
   "metadata": {},
   "outputs": [],
   "source": [
    "from sklearn.ensemble import BaggingClassifier"
   ]
  },
  {
   "cell_type": "code",
   "execution_count": 388,
   "metadata": {},
   "outputs": [],
   "source": [
    "bag_clf = BaggingClassifier(\n",
    "    DecisionTreeClassifier(),n_estimators=1000,\n",
    "    max_samples=5000,bootstrap=True,n_jobs=-1)\n",
    "bag_clf.fit(X_train,y_train)\n",
    "y_pred = bag_clf.predict(X_test)"
   ]
  },
  {
   "cell_type": "code",
   "execution_count": 389,
   "metadata": {},
   "outputs": [
    {
     "name": "stdout",
     "output_type": "stream",
     "text": [
      "Testing set accuracy:  0.9418\n"
     ]
    }
   ],
   "source": [
    "bagging_test = accuracy_score(y_test, y_pred).round(5)\n",
    "print(\"Testing set accuracy: \", bagging_test)"
   ]
  },
  {
   "cell_type": "code",
   "execution_count": 390,
   "metadata": {},
   "outputs": [
    {
     "data": {
      "text/plain": [
       "array([[5443,  249],\n",
       "       [ 333, 3975]])"
      ]
     },
     "execution_count": 390,
     "metadata": {},
     "output_type": "execute_result"
    }
   ],
   "source": [
    "cmat = confusion_matrix(y_test, y_pred)\n",
    "tn, fp, fn, tp = cmat.ravel()\n",
    "cmat"
   ]
  },
  {
   "cell_type": "code",
   "execution_count": 391,
   "metadata": {},
   "outputs": [],
   "source": [
    "result.append({\"Model\": \"BaggingClf\", \"Test_Score\": bagging_test})"
   ]
  },
  {
   "cell_type": "markdown",
   "metadata": {},
   "source": [
    "### 9. AdaBoost"
   ]
  },
  {
   "cell_type": "code",
   "execution_count": 392,
   "metadata": {},
   "outputs": [],
   "source": [
    "from sklearn.ensemble import AdaBoostClassifier"
   ]
  },
  {
   "cell_type": "markdown",
   "metadata": {},
   "source": [
    "Now, we will train an AdaBoost classifier on many stumps (max_depth=1), and SAMME algorithm here is equivalent to AdaBoost when there are only two classes."
   ]
  },
  {
   "cell_type": "code",
   "execution_count": 430,
   "metadata": {},
   "outputs": [
    {
     "data": {
      "text/plain": [
       "AdaBoostClassifier(base_estimator=DecisionTreeClassifier(max_depth=1),\n",
       "                   learning_rate=0.5, n_estimators=110)"
      ]
     },
     "execution_count": 430,
     "metadata": {},
     "output_type": "execute_result"
    }
   ],
   "source": [
    "ada_clf = AdaBoostClassifier(\n",
    "    DecisionTreeClassifier(max_depth=1),n_estimators=110,\n",
    "    algorithm=\"SAMME.R\",learning_rate=0.5)\n",
    "ada_clf.fit(X_train, y_train)"
   ]
  },
  {
   "cell_type": "code",
   "execution_count": 431,
   "metadata": {},
   "outputs": [
    {
     "name": "stdout",
     "output_type": "stream",
     "text": [
      "Testing set accuracy:  0.9281\n"
     ]
    }
   ],
   "source": [
    "y_pred = ada_clf.predict(X_test)\n",
    "ada_test = accuracy_score(y_test, y_pred).round(5)\n",
    "print(\"Testing set accuracy: \", ada_test)"
   ]
  },
  {
   "cell_type": "code",
   "execution_count": 425,
   "metadata": {},
   "outputs": [
    {
     "data": {
      "text/plain": [
       "array([[5368,  324],\n",
       "       [ 395, 3913]])"
      ]
     },
     "execution_count": 425,
     "metadata": {},
     "output_type": "execute_result"
    }
   ],
   "source": [
    "cmat = confusion_matrix(y_test, y_pred)\n",
    "tn, fp, fn, tp = cmat.ravel()\n",
    "cmat"
   ]
  },
  {
   "cell_type": "code",
   "execution_count": 426,
   "metadata": {},
   "outputs": [],
   "source": [
    "result.append({\"Model\": \"AdaBoost\", \"Test_Score\": ada_test})"
   ]
  },
  {
   "cell_type": "markdown",
   "metadata": {},
   "source": [
    "### 10. Gradient Boost"
   ]
  },
  {
   "cell_type": "code",
   "execution_count": 427,
   "metadata": {},
   "outputs": [],
   "source": [
    "from sklearn.ensemble import GradientBoostingClassifier"
   ]
  },
  {
   "cell_type": "code",
   "execution_count": 464,
   "metadata": {},
   "outputs": [
    {
     "data": {
      "text/plain": [
       "GradientBoostingClassifier(max_depth=7, n_estimators=300)"
      ]
     },
     "execution_count": 464,
     "metadata": {},
     "output_type": "execute_result"
    }
   ],
   "source": [
    "gb_clf = GradientBoostingClassifier(max_depth=7,n_estimators=300)\n",
    "gb_clf.fit(X_train, y_train)"
   ]
  },
  {
   "cell_type": "code",
   "execution_count": 465,
   "metadata": {},
   "outputs": [
    {
     "name": "stdout",
     "output_type": "stream",
     "text": [
      "Testing set accuracy:  0.9507\n"
     ]
    }
   ],
   "source": [
    "y_pred = gb_clf.predict(X_test)\n",
    "gb_test = accuracy_score(y_test, y_pred).round(5)\n",
    "print(\"Testing set accuracy: \", gb_test)"
   ]
  },
  {
   "cell_type": "code",
   "execution_count": 466,
   "metadata": {},
   "outputs": [
    {
     "data": {
      "text/plain": [
       "array([[5493,  199],\n",
       "       [ 294, 4014]])"
      ]
     },
     "execution_count": 466,
     "metadata": {},
     "output_type": "execute_result"
    }
   ],
   "source": [
    "cmat = confusion_matrix(y_test, y_pred)\n",
    "tn, fp, fn, tp = cmat.ravel()\n",
    "cmat"
   ]
  },
  {
   "cell_type": "code",
   "execution_count": 467,
   "metadata": {},
   "outputs": [],
   "source": [
    "result.append({\"Model\": \"GradientBoost\", \"Test_Score\": gb_test})"
   ]
  },
  {
   "cell_type": "markdown",
   "metadata": {},
   "source": [
    "## IV. Performance Evaluation"
   ]
  },
  {
   "cell_type": "markdown",
   "metadata": {},
   "source": [
    "Let's create a Pandas dataframe to display all scores that we have stored, then sort them descendingly based on the testing set performance."
   ]
  },
  {
   "cell_type": "code",
   "execution_count": 473,
   "metadata": {},
   "outputs": [],
   "source": [
    "result_df = pd.DataFrame(result)"
   ]
  },
  {
   "cell_type": "code",
   "execution_count": 472,
   "metadata": {},
   "outputs": [
    {
     "data": {
      "text/html": [
       "<div>\n",
       "<style scoped>\n",
       "    .dataframe tbody tr th:only-of-type {\n",
       "        vertical-align: middle;\n",
       "    }\n",
       "\n",
       "    .dataframe tbody tr th {\n",
       "        vertical-align: top;\n",
       "    }\n",
       "\n",
       "    .dataframe thead th {\n",
       "        text-align: right;\n",
       "    }\n",
       "</style>\n",
       "<table border=\"1\" class=\"dataframe\">\n",
       "  <thead>\n",
       "    <tr style=\"text-align: right;\">\n",
       "      <th></th>\n",
       "      <th>Model</th>\n",
       "      <th>Test_Score</th>\n",
       "    </tr>\n",
       "  </thead>\n",
       "  <tbody>\n",
       "    <tr>\n",
       "      <th>9</th>\n",
       "      <td>GradientBoost</td>\n",
       "      <td>0.95070</td>\n",
       "    </tr>\n",
       "    <tr>\n",
       "      <th>5</th>\n",
       "      <td>RandomForest</td>\n",
       "      <td>0.94560</td>\n",
       "    </tr>\n",
       "    <tr>\n",
       "      <th>7</th>\n",
       "      <td>BaggingClf</td>\n",
       "      <td>0.94180</td>\n",
       "    </tr>\n",
       "    <tr>\n",
       "      <th>3</th>\n",
       "      <td>SVC_rbf</td>\n",
       "      <td>0.93380</td>\n",
       "    </tr>\n",
       "    <tr>\n",
       "      <th>8</th>\n",
       "      <td>AdaBoost</td>\n",
       "      <td>0.92810</td>\n",
       "    </tr>\n",
       "    <tr>\n",
       "      <th>4</th>\n",
       "      <td>DecisionTree</td>\n",
       "      <td>0.92160</td>\n",
       "    </tr>\n",
       "    <tr>\n",
       "      <th>1</th>\n",
       "      <td>Naive Bayes</td>\n",
       "      <td>0.90378</td>\n",
       "    </tr>\n",
       "    <tr>\n",
       "      <th>0</th>\n",
       "      <td>KNN</td>\n",
       "      <td>0.90150</td>\n",
       "    </tr>\n",
       "    <tr>\n",
       "      <th>6</th>\n",
       "      <td>Voting Classifier</td>\n",
       "      <td>0.90070</td>\n",
       "    </tr>\n",
       "    <tr>\n",
       "      <th>2</th>\n",
       "      <td>Logistic</td>\n",
       "      <td>0.87302</td>\n",
       "    </tr>\n",
       "  </tbody>\n",
       "</table>\n",
       "</div>"
      ],
      "text/plain": [
       "               Model  Test_Score\n",
       "9      GradientBoost     0.95070\n",
       "5       RandomForest     0.94560\n",
       "7         BaggingClf     0.94180\n",
       "3            SVC_rbf     0.93380\n",
       "8           AdaBoost     0.92810\n",
       "4       DecisionTree     0.92160\n",
       "1        Naive Bayes     0.90378\n",
       "0                KNN     0.90150\n",
       "6  Voting Classifier     0.90070\n",
       "2           Logistic     0.87302"
      ]
     },
     "execution_count": 472,
     "metadata": {},
     "output_type": "execute_result"
    }
   ],
   "source": [
    "result_df.sort_values(\"Test_Score\", ascending=False)"
   ]
  },
  {
   "cell_type": "markdown",
   "metadata": {},
   "source": [
    "From the above sorted dataframe, we could see that **GradientBoost** is the so far the best model which generates a testing accuracy of 0.95070. Pretty good score! We could also notice that **Emsemble Learning** methods such as **RandomForest** and **Bagging Classifier** are also performing pretty well. On the other hand, **Logistic** model has the worst performance. It does not classify really well if the boundary is not linear because it depends on the assumption that the relationship between dependent variable and independent variable are linearly associated. "
   ]
  },
  {
   "cell_type": "markdown",
   "metadata": {},
   "source": [
    "## V. Conclusion"
   ]
  },
  {
   "cell_type": "markdown",
   "metadata": {},
   "source": [
    "As we described above, **GradienBoost** Ensemble Learning is the best classification model. We could also show the feature importances graph from our decision tree model in section 5:"
   ]
  },
  {
   "cell_type": "code",
   "execution_count": 548,
   "metadata": {},
   "outputs": [
    {
     "data": {
      "image/png": "[encoded data removed]",
      "text/plain": [
       "<Figure size 432x288 with 1 Axes>"
      ]
     },
     "metadata": {
      "needs_background": "light"
     },
     "output_type": "display_data"
    }
   ],
   "source": [
    "importances = best_tree.feature_importances_\n",
    "\n",
    "df = pd.DataFrame({'feature': X_train.columns, 'importance': importances})\n",
    "df = df.sort_values('importance')\n",
    "\n",
    "ax = df.plot(kind='barh', x='feature', legend=False)\n",
    "ax.set_ylabel('')\n",
    "\n",
    "plt.tight_layout()\n",
    "plt.show()"
   ]
  },
  {
   "cell_type": "markdown",
   "metadata": {},
   "source": [
    "If we take a closer look at the top features that determine airline customer satisfaction, we could easily find out that this makes sense. For instance, whether the airline provides an online boarding service is the most crucial factor in impacting customer experience since it could reduce waiting time and make customers feel in control of their travel. Inflight wifi service is the second thing that matters the most for customers because it allows them to kill time, at the same time stay connected during the journey. In addition, if the travel type is personal will also influence the customer ratings, probably because the travel type usually determines the customers' moods, expectations, etc. in general."
   ]
  },
  {
   "cell_type": "markdown",
   "metadata": {},
   "source": [
    "## VI. Reflection"
   ]
  },
  {
   "cell_type": "markdown",
   "metadata": {},
   "source": [
    "For future study, what we could do first is to train our models using the entire dataset. According to the performance dataframe in section IV, compared with 0.5 -- Naive benchmark value, our models are actually quite good. However, it is also very likely that we could improve the scores with more data to train on. Further more, I did not include Neural Network in this project, that is also an excellent model that I could try in the future. "
   ]
  }
 ],
 "metadata": {
  "kernelspec": {
   "display_name": "Python 3",
   "language": "python",
   "name": "python3"
  },
  "language_info": {
   "codemirror_mode": {
    "name": "ipython",
    "version": 3
   },
   "file_extension": ".py",
   "mimetype": "text/x-python",
   "name": "python",
   "nbconvert_exporter": "python",
   "pygments_lexer": "ipython3",
   "version": "3.8.8"
  }
 },
 "nbformat": 4,
 "nbformat_minor": 4
}
